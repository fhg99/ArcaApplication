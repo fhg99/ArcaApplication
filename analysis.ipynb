{
 "cells": [
  {
   "cell_type": "markdown",
   "metadata": {},
   "source": [
    "## **Data Translation Case**\n",
    "#### A data transformation workflow elaborated by Fernando Herrera Garza\n",
    "###### _November 2nd, 2023_"
   ]
  },
  {
   "cell_type": "markdown",
   "metadata": {},
   "source": [
    "### **Introduction**\n",
    "The following notebook was created with the purpose of inspecting and wrangling the [dataset](sampleData.csv) provided by recruitment team of **Arca Continental** as part of the application processs for the position of Data Translator Analyst. The goal is to transform the dataset in order for it to be propperly analyzed with several tools to obtain relevant insights that will answer the following points:\n",
    "\n",
    "> **1.** Top five customers who placed the most orders in January.\n",
    ">\n",
    "> **2.** Most popular productAgrupationID based on the total number of cases ordered.\n",
    ">\n",
    "> **3.** Most ordered product ID of each productAgrupationID.\n",
    ">\n",
    "> **4.** How does the sales volume vary across different territories?\n",
    ">\n",
    "> **5.** Are there any notable patterns or trends in the productAgrupationID with high sales volume?"
   ]
  },
  {
   "cell_type": "markdown",
   "metadata": {},
   "source": [
    "#### **Dependencies**"
   ]
  },
  {
   "cell_type": "code",
   "execution_count": 44,
   "metadata": {},
   "outputs": [
    {
     "name": "stdout",
     "output_type": "stream",
     "text": [
      "Requirement already satisfied: anyio==4.0.0 in ./.env/lib/python3.10/site-packages (from -r requirements.txt (line 1)) (4.0.0)\n",
      "Requirement already satisfied: appnope==0.1.3 in ./.env/lib/python3.10/site-packages (from -r requirements.txt (line 2)) (0.1.3)\n",
      "Requirement already satisfied: argon2-cffi==23.1.0 in ./.env/lib/python3.10/site-packages (from -r requirements.txt (line 3)) (23.1.0)\n",
      "Requirement already satisfied: argon2-cffi-bindings==21.2.0 in ./.env/lib/python3.10/site-packages (from -r requirements.txt (line 4)) (21.2.0)\n",
      "Requirement already satisfied: arrow==1.3.0 in ./.env/lib/python3.10/site-packages (from -r requirements.txt (line 5)) (1.3.0)\n",
      "Requirement already satisfied: asttokens==2.4.1 in ./.env/lib/python3.10/site-packages (from -r requirements.txt (line 6)) (2.4.1)\n",
      "Requirement already satisfied: async-lru==2.0.4 in ./.env/lib/python3.10/site-packages (from -r requirements.txt (line 7)) (2.0.4)\n",
      "Requirement already satisfied: attrs==23.1.0 in ./.env/lib/python3.10/site-packages (from -r requirements.txt (line 8)) (23.1.0)\n",
      "Requirement already satisfied: Babel==2.13.1 in ./.env/lib/python3.10/site-packages (from -r requirements.txt (line 9)) (2.13.1)\n",
      "Requirement already satisfied: beautifulsoup4==4.12.2 in ./.env/lib/python3.10/site-packages (from -r requirements.txt (line 10)) (4.12.2)\n",
      "Requirement already satisfied: bleach==6.1.0 in ./.env/lib/python3.10/site-packages (from -r requirements.txt (line 11)) (6.1.0)\n",
      "Requirement already satisfied: certifi==2023.7.22 in ./.env/lib/python3.10/site-packages (from -r requirements.txt (line 12)) (2023.7.22)\n",
      "Requirement already satisfied: cffi==1.16.0 in ./.env/lib/python3.10/site-packages (from -r requirements.txt (line 13)) (1.16.0)\n",
      "Requirement already satisfied: charset-normalizer==3.3.2 in ./.env/lib/python3.10/site-packages (from -r requirements.txt (line 14)) (3.3.2)\n",
      "Requirement already satisfied: comm==0.1.4 in ./.env/lib/python3.10/site-packages (from -r requirements.txt (line 15)) (0.1.4)\n",
      "Requirement already satisfied: contourpy==1.1.1 in ./.env/lib/python3.10/site-packages (from -r requirements.txt (line 16)) (1.1.1)\n",
      "Requirement already satisfied: cycler==0.12.1 in ./.env/lib/python3.10/site-packages (from -r requirements.txt (line 17)) (0.12.1)\n",
      "Requirement already satisfied: debugpy==1.8.0 in ./.env/lib/python3.10/site-packages (from -r requirements.txt (line 18)) (1.8.0)\n",
      "Requirement already satisfied: decorator==5.1.1 in ./.env/lib/python3.10/site-packages (from -r requirements.txt (line 19)) (5.1.1)\n",
      "Requirement already satisfied: defusedxml==0.7.1 in ./.env/lib/python3.10/site-packages (from -r requirements.txt (line 20)) (0.7.1)\n",
      "Requirement already satisfied: exceptiongroup==1.1.3 in ./.env/lib/python3.10/site-packages (from -r requirements.txt (line 21)) (1.1.3)\n",
      "Requirement already satisfied: executing==2.0.1 in ./.env/lib/python3.10/site-packages (from -r requirements.txt (line 22)) (2.0.1)\n",
      "Requirement already satisfied: fastjsonschema==2.18.1 in ./.env/lib/python3.10/site-packages (from -r requirements.txt (line 23)) (2.18.1)\n",
      "Requirement already satisfied: fonttools==4.43.1 in ./.env/lib/python3.10/site-packages (from -r requirements.txt (line 24)) (4.43.1)\n",
      "Requirement already satisfied: fqdn==1.5.1 in ./.env/lib/python3.10/site-packages (from -r requirements.txt (line 25)) (1.5.1)\n",
      "Requirement already satisfied: idna==3.4 in ./.env/lib/python3.10/site-packages (from -r requirements.txt (line 26)) (3.4)\n",
      "Requirement already satisfied: ipykernel==6.26.0 in ./.env/lib/python3.10/site-packages (from -r requirements.txt (line 27)) (6.26.0)\n",
      "Requirement already satisfied: ipython==8.17.2 in ./.env/lib/python3.10/site-packages (from -r requirements.txt (line 28)) (8.17.2)\n",
      "Requirement already satisfied: ipython-genutils==0.2.0 in ./.env/lib/python3.10/site-packages (from -r requirements.txt (line 29)) (0.2.0)\n",
      "Requirement already satisfied: ipywidgets==8.1.1 in ./.env/lib/python3.10/site-packages (from -r requirements.txt (line 30)) (8.1.1)\n",
      "Requirement already satisfied: isoduration==20.11.0 in ./.env/lib/python3.10/site-packages (from -r requirements.txt (line 31)) (20.11.0)\n",
      "Requirement already satisfied: jedi==0.19.1 in ./.env/lib/python3.10/site-packages (from -r requirements.txt (line 32)) (0.19.1)\n",
      "Requirement already satisfied: Jinja2==3.1.2 in ./.env/lib/python3.10/site-packages (from -r requirements.txt (line 33)) (3.1.2)\n",
      "Requirement already satisfied: json5==0.9.14 in ./.env/lib/python3.10/site-packages (from -r requirements.txt (line 34)) (0.9.14)\n",
      "Requirement already satisfied: jsonpointer==2.4 in ./.env/lib/python3.10/site-packages (from -r requirements.txt (line 35)) (2.4)\n",
      "Requirement already satisfied: jsonschema==4.19.2 in ./.env/lib/python3.10/site-packages (from -r requirements.txt (line 36)) (4.19.2)\n",
      "Requirement already satisfied: jsonschema-specifications==2023.7.1 in ./.env/lib/python3.10/site-packages (from -r requirements.txt (line 37)) (2023.7.1)\n",
      "Requirement already satisfied: jupyter==1.0.0 in ./.env/lib/python3.10/site-packages (from -r requirements.txt (line 38)) (1.0.0)\n",
      "Requirement already satisfied: jupyter-console==6.6.3 in ./.env/lib/python3.10/site-packages (from -r requirements.txt (line 39)) (6.6.3)\n",
      "Requirement already satisfied: jupyter-events==0.8.0 in ./.env/lib/python3.10/site-packages (from -r requirements.txt (line 40)) (0.8.0)\n",
      "Requirement already satisfied: jupyter-lsp==2.2.0 in ./.env/lib/python3.10/site-packages (from -r requirements.txt (line 41)) (2.2.0)\n",
      "Requirement already satisfied: jupyter_client==8.5.0 in ./.env/lib/python3.10/site-packages (from -r requirements.txt (line 42)) (8.5.0)\n",
      "Requirement already satisfied: jupyter_core==5.5.0 in ./.env/lib/python3.10/site-packages (from -r requirements.txt (line 43)) (5.5.0)\n",
      "Requirement already satisfied: jupyter_server==2.9.1 in ./.env/lib/python3.10/site-packages (from -r requirements.txt (line 44)) (2.9.1)\n",
      "Requirement already satisfied: jupyter_server_terminals==0.4.4 in ./.env/lib/python3.10/site-packages (from -r requirements.txt (line 45)) (0.4.4)\n",
      "Requirement already satisfied: jupyterlab==4.0.7 in ./.env/lib/python3.10/site-packages (from -r requirements.txt (line 46)) (4.0.7)\n",
      "Requirement already satisfied: jupyterlab-pygments==0.2.2 in ./.env/lib/python3.10/site-packages (from -r requirements.txt (line 47)) (0.2.2)\n",
      "Requirement already satisfied: jupyterlab-widgets==3.0.9 in ./.env/lib/python3.10/site-packages (from -r requirements.txt (line 48)) (3.0.9)\n",
      "Requirement already satisfied: jupyterlab_server==2.25.0 in ./.env/lib/python3.10/site-packages (from -r requirements.txt (line 49)) (2.25.0)\n",
      "Requirement already satisfied: kiwisolver==1.4.5 in ./.env/lib/python3.10/site-packages (from -r requirements.txt (line 50)) (1.4.5)\n",
      "Requirement already satisfied: MarkupSafe==2.1.3 in ./.env/lib/python3.10/site-packages (from -r requirements.txt (line 51)) (2.1.3)\n",
      "Requirement already satisfied: matplotlib==3.8.1 in ./.env/lib/python3.10/site-packages (from -r requirements.txt (line 52)) (3.8.1)\n",
      "Requirement already satisfied: matplotlib-inline==0.1.6 in ./.env/lib/python3.10/site-packages (from -r requirements.txt (line 53)) (0.1.6)\n",
      "Requirement already satisfied: mistune==3.0.2 in ./.env/lib/python3.10/site-packages (from -r requirements.txt (line 54)) (3.0.2)\n",
      "Requirement already satisfied: nbclient==0.8.0 in ./.env/lib/python3.10/site-packages (from -r requirements.txt (line 55)) (0.8.0)\n",
      "Requirement already satisfied: nbconvert==7.10.0 in ./.env/lib/python3.10/site-packages (from -r requirements.txt (line 56)) (7.10.0)\n",
      "Requirement already satisfied: nbformat==5.9.2 in ./.env/lib/python3.10/site-packages (from -r requirements.txt (line 57)) (5.9.2)\n",
      "Requirement already satisfied: nest-asyncio==1.5.8 in ./.env/lib/python3.10/site-packages (from -r requirements.txt (line 58)) (1.5.8)\n",
      "Requirement already satisfied: notebook==7.0.6 in ./.env/lib/python3.10/site-packages (from -r requirements.txt (line 59)) (7.0.6)\n",
      "Requirement already satisfied: notebook_shim==0.2.3 in ./.env/lib/python3.10/site-packages (from -r requirements.txt (line 60)) (0.2.3)\n",
      "Requirement already satisfied: numpy==1.26.1 in ./.env/lib/python3.10/site-packages (from -r requirements.txt (line 61)) (1.26.1)\n",
      "Requirement already satisfied: overrides==7.4.0 in ./.env/lib/python3.10/site-packages (from -r requirements.txt (line 62)) (7.4.0)\n",
      "Requirement already satisfied: packaging==23.2 in ./.env/lib/python3.10/site-packages (from -r requirements.txt (line 63)) (23.2)\n",
      "Requirement already satisfied: pandas==2.1.2 in ./.env/lib/python3.10/site-packages (from -r requirements.txt (line 64)) (2.1.2)\n",
      "Requirement already satisfied: pandocfilters==1.5.0 in ./.env/lib/python3.10/site-packages (from -r requirements.txt (line 65)) (1.5.0)\n",
      "Requirement already satisfied: parso==0.8.3 in ./.env/lib/python3.10/site-packages (from -r requirements.txt (line 66)) (0.8.3)\n",
      "Requirement already satisfied: pexpect==4.8.0 in ./.env/lib/python3.10/site-packages (from -r requirements.txt (line 67)) (4.8.0)\n",
      "Requirement already satisfied: Pillow==10.1.0 in ./.env/lib/python3.10/site-packages (from -r requirements.txt (line 68)) (10.1.0)\n",
      "Requirement already satisfied: platformdirs==3.11.0 in ./.env/lib/python3.10/site-packages (from -r requirements.txt (line 69)) (3.11.0)\n",
      "Requirement already satisfied: prometheus-client==0.18.0 in ./.env/lib/python3.10/site-packages (from -r requirements.txt (line 70)) (0.18.0)\n",
      "Requirement already satisfied: prompt-toolkit==3.0.39 in ./.env/lib/python3.10/site-packages (from -r requirements.txt (line 71)) (3.0.39)\n",
      "Requirement already satisfied: psutil==5.9.6 in ./.env/lib/python3.10/site-packages (from -r requirements.txt (line 72)) (5.9.6)\n",
      "Requirement already satisfied: ptyprocess==0.7.0 in ./.env/lib/python3.10/site-packages (from -r requirements.txt (line 73)) (0.7.0)\n",
      "Requirement already satisfied: pure-eval==0.2.2 in ./.env/lib/python3.10/site-packages (from -r requirements.txt (line 74)) (0.2.2)\n",
      "Requirement already satisfied: pycparser==2.21 in ./.env/lib/python3.10/site-packages (from -r requirements.txt (line 75)) (2.21)\n",
      "Requirement already satisfied: Pygments==2.16.1 in ./.env/lib/python3.10/site-packages (from -r requirements.txt (line 76)) (2.16.1)\n",
      "Requirement already satisfied: pyparsing==3.1.1 in ./.env/lib/python3.10/site-packages (from -r requirements.txt (line 77)) (3.1.1)\n",
      "Requirement already satisfied: python-dateutil==2.8.2 in ./.env/lib/python3.10/site-packages (from -r requirements.txt (line 78)) (2.8.2)\n",
      "Requirement already satisfied: python-json-logger==2.0.7 in ./.env/lib/python3.10/site-packages (from -r requirements.txt (line 79)) (2.0.7)\n",
      "Requirement already satisfied: pytz==2023.3.post1 in ./.env/lib/python3.10/site-packages (from -r requirements.txt (line 80)) (2023.3.post1)\n",
      "Requirement already satisfied: PyYAML==6.0.1 in ./.env/lib/python3.10/site-packages (from -r requirements.txt (line 81)) (6.0.1)\n",
      "Requirement already satisfied: pyzmq==25.1.1 in ./.env/lib/python3.10/site-packages (from -r requirements.txt (line 82)) (25.1.1)\n",
      "Requirement already satisfied: qtconsole==5.4.4 in ./.env/lib/python3.10/site-packages (from -r requirements.txt (line 83)) (5.4.4)\n",
      "Requirement already satisfied: QtPy==2.4.1 in ./.env/lib/python3.10/site-packages (from -r requirements.txt (line 84)) (2.4.1)\n",
      "Requirement already satisfied: referencing==0.30.2 in ./.env/lib/python3.10/site-packages (from -r requirements.txt (line 85)) (0.30.2)\n",
      "Requirement already satisfied: requests==2.31.0 in ./.env/lib/python3.10/site-packages (from -r requirements.txt (line 86)) (2.31.0)\n",
      "Requirement already satisfied: rfc3339-validator==0.1.4 in ./.env/lib/python3.10/site-packages (from -r requirements.txt (line 87)) (0.1.4)\n",
      "Requirement already satisfied: rfc3986-validator==0.1.1 in ./.env/lib/python3.10/site-packages (from -r requirements.txt (line 88)) (0.1.1)\n",
      "Requirement already satisfied: rpds-py==0.10.6 in ./.env/lib/python3.10/site-packages (from -r requirements.txt (line 89)) (0.10.6)\n",
      "Requirement already satisfied: seaborn==0.13.0 in ./.env/lib/python3.10/site-packages (from -r requirements.txt (line 90)) (0.13.0)\n",
      "Requirement already satisfied: Send2Trash==1.8.2 in ./.env/lib/python3.10/site-packages (from -r requirements.txt (line 91)) (1.8.2)\n",
      "Requirement already satisfied: six==1.16.0 in ./.env/lib/python3.10/site-packages (from -r requirements.txt (line 92)) (1.16.0)\n",
      "Requirement already satisfied: sniffio==1.3.0 in ./.env/lib/python3.10/site-packages (from -r requirements.txt (line 93)) (1.3.0)\n",
      "Requirement already satisfied: soupsieve==2.5 in ./.env/lib/python3.10/site-packages (from -r requirements.txt (line 94)) (2.5)\n",
      "Requirement already satisfied: stack-data==0.6.3 in ./.env/lib/python3.10/site-packages (from -r requirements.txt (line 95)) (0.6.3)\n",
      "Requirement already satisfied: terminado==0.17.1 in ./.env/lib/python3.10/site-packages (from -r requirements.txt (line 96)) (0.17.1)\n",
      "Requirement already satisfied: tinycss2==1.2.1 in ./.env/lib/python3.10/site-packages (from -r requirements.txt (line 97)) (1.2.1)\n",
      "Requirement already satisfied: tomli==2.0.1 in ./.env/lib/python3.10/site-packages (from -r requirements.txt (line 98)) (2.0.1)\n",
      "Requirement already satisfied: tornado==6.3.3 in ./.env/lib/python3.10/site-packages (from -r requirements.txt (line 99)) (6.3.3)\n",
      "Requirement already satisfied: traitlets==5.13.0 in ./.env/lib/python3.10/site-packages (from -r requirements.txt (line 100)) (5.13.0)\n",
      "Requirement already satisfied: types-python-dateutil==2.8.19.14 in ./.env/lib/python3.10/site-packages (from -r requirements.txt (line 101)) (2.8.19.14)\n",
      "Requirement already satisfied: typing_extensions==4.8.0 in ./.env/lib/python3.10/site-packages (from -r requirements.txt (line 102)) (4.8.0)\n",
      "Requirement already satisfied: tzdata==2023.3 in ./.env/lib/python3.10/site-packages (from -r requirements.txt (line 103)) (2023.3)\n",
      "Requirement already satisfied: uri-template==1.3.0 in ./.env/lib/python3.10/site-packages (from -r requirements.txt (line 104)) (1.3.0)\n",
      "Requirement already satisfied: urllib3==2.0.7 in ./.env/lib/python3.10/site-packages (from -r requirements.txt (line 105)) (2.0.7)\n",
      "Requirement already satisfied: wcwidth==0.2.9 in ./.env/lib/python3.10/site-packages (from -r requirements.txt (line 106)) (0.2.9)\n",
      "Requirement already satisfied: webcolors==1.13 in ./.env/lib/python3.10/site-packages (from -r requirements.txt (line 107)) (1.13)\n",
      "Requirement already satisfied: webencodings==0.5.1 in ./.env/lib/python3.10/site-packages (from -r requirements.txt (line 108)) (0.5.1)\n",
      "Requirement already satisfied: websocket-client==1.6.4 in ./.env/lib/python3.10/site-packages (from -r requirements.txt (line 109)) (1.6.4)\n",
      "Requirement already satisfied: widgetsnbextension==4.0.9 in ./.env/lib/python3.10/site-packages (from -r requirements.txt (line 110)) (4.0.9)\n",
      "\u001b[33mWARNING: You are using pip version 21.2.3; however, version 23.3.1 is available.\n",
      "You should consider upgrading via the '/Users/macbook/Desktop/Dev/Arca/Application/.env/bin/python3 -m pip install --upgrade pip' command.\u001b[0m\n",
      "Note: you may need to restart the kernel to use updated packages.\n"
     ]
    }
   ],
   "source": [
    "%pip install -r requirements.txt"
   ]
  },
  {
   "cell_type": "markdown",
   "metadata": {},
   "source": [
    "#### **Import Packages**"
   ]
  },
  {
   "cell_type": "code",
   "execution_count": 45,
   "metadata": {},
   "outputs": [],
   "source": [
    "import pandas as pd\n",
    "import matplotlib.pyplot as plt\n",
    "import seaborn as sns"
   ]
  },
  {
   "cell_type": "markdown",
   "metadata": {},
   "source": [
    "#### **Import and Describe Data**\n",
    "We can always begin with creating a dataframe from the data and visualizing its shape, dtypes and head.\n"
   ]
  },
  {
   "cell_type": "code",
   "execution_count": 46,
   "metadata": {},
   "outputs": [
    {
     "name": "stdout",
     "output_type": "stream",
     "text": [
      "The dataset consists of 70393 rows and 6 columns\n",
      "\n",
      "Its fields have the following data types.\n",
      "order_date                object\n",
      "customer                   int64\n",
      "productAgrupationID      float64\n",
      "productID                  int64\n",
      "territory                  int64\n",
      "product_cases_ordered    float64\n",
      "dtype: object\n"
     ]
    },
    {
     "data": {
      "text/html": [
       "<div>\n",
       "<style scoped>\n",
       "    .dataframe tbody tr th:only-of-type {\n",
       "        vertical-align: middle;\n",
       "    }\n",
       "\n",
       "    .dataframe tbody tr th {\n",
       "        vertical-align: top;\n",
       "    }\n",
       "\n",
       "    .dataframe thead th {\n",
       "        text-align: right;\n",
       "    }\n",
       "</style>\n",
       "<table border=\"1\" class=\"dataframe\">\n",
       "  <thead>\n",
       "    <tr style=\"text-align: right;\">\n",
       "      <th></th>\n",
       "      <th>order_date</th>\n",
       "      <th>customer</th>\n",
       "      <th>productAgrupationID</th>\n",
       "      <th>productID</th>\n",
       "      <th>territory</th>\n",
       "      <th>product_cases_ordered</th>\n",
       "    </tr>\n",
       "  </thead>\n",
       "  <tbody>\n",
       "    <tr>\n",
       "      <th>0</th>\n",
       "      <td>2020-01-23T00:00:00.000Z</td>\n",
       "      <td>247474</td>\n",
       "      <td>1431.0</td>\n",
       "      <td>10159</td>\n",
       "      <td>262</td>\n",
       "      <td>28.76</td>\n",
       "    </tr>\n",
       "    <tr>\n",
       "      <th>1</th>\n",
       "      <td>2020-01-24T00:00:00.000Z</td>\n",
       "      <td>239611</td>\n",
       "      <td>1626.0</td>\n",
       "      <td>9968</td>\n",
       "      <td>263</td>\n",
       "      <td>28.76</td>\n",
       "    </tr>\n",
       "    <tr>\n",
       "      <th>2</th>\n",
       "      <td>2020-01-31T00:00:00.000Z</td>\n",
       "      <td>382014</td>\n",
       "      <td>1202.0</td>\n",
       "      <td>9864</td>\n",
       "      <td>279</td>\n",
       "      <td>28.76</td>\n",
       "    </tr>\n",
       "    <tr>\n",
       "      <th>3</th>\n",
       "      <td>2020-01-31T00:00:00.000Z</td>\n",
       "      <td>382014</td>\n",
       "      <td>1202.0</td>\n",
       "      <td>9863</td>\n",
       "      <td>279</td>\n",
       "      <td>28.76</td>\n",
       "    </tr>\n",
       "    <tr>\n",
       "      <th>4</th>\n",
       "      <td>2020-01-21T00:00:00.000Z</td>\n",
       "      <td>225565</td>\n",
       "      <td>1202.0</td>\n",
       "      <td>9864</td>\n",
       "      <td>263</td>\n",
       "      <td>28.76</td>\n",
       "    </tr>\n",
       "    <tr>\n",
       "      <th>5</th>\n",
       "      <td>2020-01-31T00:00:00.000Z</td>\n",
       "      <td>382014</td>\n",
       "      <td>1202.0</td>\n",
       "      <td>9865</td>\n",
       "      <td>279</td>\n",
       "      <td>28.76</td>\n",
       "    </tr>\n",
       "    <tr>\n",
       "      <th>6</th>\n",
       "      <td>2020-01-31T00:00:00.000Z</td>\n",
       "      <td>382014</td>\n",
       "      <td>1202.0</td>\n",
       "      <td>9928</td>\n",
       "      <td>279</td>\n",
       "      <td>28.76</td>\n",
       "    </tr>\n",
       "    <tr>\n",
       "      <th>7</th>\n",
       "      <td>2020-01-31T00:00:00.000Z</td>\n",
       "      <td>377848</td>\n",
       "      <td>1418.0</td>\n",
       "      <td>10435</td>\n",
       "      <td>279</td>\n",
       "      <td>28.76</td>\n",
       "    </tr>\n",
       "    <tr>\n",
       "      <th>8</th>\n",
       "      <td>2020-01-31T00:00:00.000Z</td>\n",
       "      <td>235365</td>\n",
       "      <td>1194.0</td>\n",
       "      <td>10343</td>\n",
       "      <td>263</td>\n",
       "      <td>28.76</td>\n",
       "    </tr>\n",
       "    <tr>\n",
       "      <th>9</th>\n",
       "      <td>2020-01-31T00:00:00.000Z</td>\n",
       "      <td>235365</td>\n",
       "      <td>1194.0</td>\n",
       "      <td>10344</td>\n",
       "      <td>263</td>\n",
       "      <td>28.76</td>\n",
       "    </tr>\n",
       "  </tbody>\n",
       "</table>\n",
       "</div>"
      ],
      "text/plain": [
       "                 order_date  customer  productAgrupationID  productID  \\\n",
       "0  2020-01-23T00:00:00.000Z    247474               1431.0      10159   \n",
       "1  2020-01-24T00:00:00.000Z    239611               1626.0       9968   \n",
       "2  2020-01-31T00:00:00.000Z    382014               1202.0       9864   \n",
       "3  2020-01-31T00:00:00.000Z    382014               1202.0       9863   \n",
       "4  2020-01-21T00:00:00.000Z    225565               1202.0       9864   \n",
       "5  2020-01-31T00:00:00.000Z    382014               1202.0       9865   \n",
       "6  2020-01-31T00:00:00.000Z    382014               1202.0       9928   \n",
       "7  2020-01-31T00:00:00.000Z    377848               1418.0      10435   \n",
       "8  2020-01-31T00:00:00.000Z    235365               1194.0      10343   \n",
       "9  2020-01-31T00:00:00.000Z    235365               1194.0      10344   \n",
       "\n",
       "   territory  product_cases_ordered  \n",
       "0        262                  28.76  \n",
       "1        263                  28.76  \n",
       "2        279                  28.76  \n",
       "3        279                  28.76  \n",
       "4        263                  28.76  \n",
       "5        279                  28.76  \n",
       "6        279                  28.76  \n",
       "7        279                  28.76  \n",
       "8        263                  28.76  \n",
       "9        263                  28.76  "
      ]
     },
     "execution_count": 46,
     "metadata": {},
     "output_type": "execute_result"
    }
   ],
   "source": [
    "data = pd.read_csv(\"sampleData.csv\")\n",
    "print(\"The dataset consists of {} rows and {} columns\".format(*data.shape))\n",
    "print(\"\")\n",
    "print(\"Its fields have the following data types.\")\n",
    "print(data.dtypes)\n",
    "data.head(10)"
   ]
  },
  {
   "cell_type": "markdown",
   "metadata": {},
   "source": [
    "#### **Removing Duplicates**\n",
    "\n",
    "As a general practice we need to make sure that we are not dealing with duplicate rows and if so, they need to be removed from the dataset in order to avoid bias or inaccuracy in our insights. This can be done with Pandas: using the **duplicated** method and aggregating the resulting Series, we see that there are 10,815 rows that are a duplicate of another row."
   ]
  },
  {
   "cell_type": "code",
   "execution_count": 47,
   "metadata": {},
   "outputs": [
    {
     "name": "stdout",
     "output_type": "stream",
     "text": [
      "There are 10815 duplicate rows in the dataset.\n"
     ]
    }
   ],
   "source": [
    "print(\"There are {} duplicate rows in the dataset.\".format(data.duplicated().sum()))"
   ]
  },
  {
   "cell_type": "markdown",
   "metadata": {},
   "source": [
    "No we can call the **drop_duplicates** method to remove these from the dataset. We can visualize that the amount of rows dropped from 70,393 to 59578, which is consistent with the previously calculated amount of duplicates."
   ]
  },
  {
   "cell_type": "code",
   "execution_count": 48,
   "metadata": {},
   "outputs": [
    {
     "name": "stdout",
     "output_type": "stream",
     "text": [
      "There are now 59578 rows in the dataset.\n"
     ]
    }
   ],
   "source": [
    "data.drop_duplicates(inplace=True)\n",
    "print(\"There are now {} rows in the dataset.\".format(data.shape[0]))"
   ]
  },
  {
   "cell_type": "markdown",
   "metadata": {},
   "source": [
    "#### **Inspecting Individual Fields**\n",
    "\n",
    "Since we have no previous information regarding the structure of some fields such as the Customer ID (we don't know the length it must have), we need to inspect one by one in order to understand how the values behave and what they represent. This way, we can discard suspicious values, reassign the data type or assign a label to the value. This procedure will also allow us to make values such as order_date are within the expected range which corresponds to dates in the month of January. "
   ]
  },
  {
   "cell_type": "markdown",
   "metadata": {},
   "source": [
    "> ##### **order_date**\n",
    "\n",
    "We can see from the description we generated from the dataset, that the order date field is composed by a datetime object formatted according to ISO 8601. The head values don't seem to include values for time rather than zeros, so we can start by inspecting all dates to see if there are any dates with specific time information rather than just the date.\n"
   ]
  },
  {
   "cell_type": "code",
   "execution_count": 49,
   "metadata": {},
   "outputs": [
    {
     "name": "stdout",
     "output_type": "stream",
     "text": [
      "The amount of dates with a time different from 00:00:00 is 0\n"
     ]
    }
   ],
   "source": [
    "full_dates = data['order_date']\n",
    "dates = pd.to_datetime(full_dates).dt.date\n",
    "times = pd.to_datetime(full_dates).dt.time\n",
    "dates_with_non_zero_time = dates[times != pd.to_datetime('00:00:00').time()].count()\n",
    "print(\"The amount of dates with a time different from 00:00:00 is {}\".format(dates_with_non_zero_time))"
   ]
  },
  {
   "cell_type": "markdown",
   "metadata": {},
   "source": [
    "Since all dates appear to mark the day at midnight and there is not a single date containing specific time information, a new column containing only the date is added to the dataset. This is done in order to have easier to read dates in further visualizations and comparisons."
   ]
  },
  {
   "cell_type": "code",
   "execution_count": 50,
   "metadata": {},
   "outputs": [
    {
     "data": {
      "text/html": [
       "<div>\n",
       "<style scoped>\n",
       "    .dataframe tbody tr th:only-of-type {\n",
       "        vertical-align: middle;\n",
       "    }\n",
       "\n",
       "    .dataframe tbody tr th {\n",
       "        vertical-align: top;\n",
       "    }\n",
       "\n",
       "    .dataframe thead th {\n",
       "        text-align: right;\n",
       "    }\n",
       "</style>\n",
       "<table border=\"1\" class=\"dataframe\">\n",
       "  <thead>\n",
       "    <tr style=\"text-align: right;\">\n",
       "      <th></th>\n",
       "      <th>order_date</th>\n",
       "      <th>order_date_date</th>\n",
       "      <th>customer</th>\n",
       "      <th>productAgrupationID</th>\n",
       "      <th>productID</th>\n",
       "      <th>territory</th>\n",
       "      <th>product_cases_ordered</th>\n",
       "    </tr>\n",
       "  </thead>\n",
       "  <tbody>\n",
       "    <tr>\n",
       "      <th>0</th>\n",
       "      <td>2020-01-23T00:00:00.000Z</td>\n",
       "      <td>2020-01-23</td>\n",
       "      <td>247474</td>\n",
       "      <td>1431.0</td>\n",
       "      <td>10159</td>\n",
       "      <td>262</td>\n",
       "      <td>28.76</td>\n",
       "    </tr>\n",
       "    <tr>\n",
       "      <th>1</th>\n",
       "      <td>2020-01-24T00:00:00.000Z</td>\n",
       "      <td>2020-01-24</td>\n",
       "      <td>239611</td>\n",
       "      <td>1626.0</td>\n",
       "      <td>9968</td>\n",
       "      <td>263</td>\n",
       "      <td>28.76</td>\n",
       "    </tr>\n",
       "    <tr>\n",
       "      <th>2</th>\n",
       "      <td>2020-01-31T00:00:00.000Z</td>\n",
       "      <td>2020-01-31</td>\n",
       "      <td>382014</td>\n",
       "      <td>1202.0</td>\n",
       "      <td>9864</td>\n",
       "      <td>279</td>\n",
       "      <td>28.76</td>\n",
       "    </tr>\n",
       "    <tr>\n",
       "      <th>3</th>\n",
       "      <td>2020-01-31T00:00:00.000Z</td>\n",
       "      <td>2020-01-31</td>\n",
       "      <td>382014</td>\n",
       "      <td>1202.0</td>\n",
       "      <td>9863</td>\n",
       "      <td>279</td>\n",
       "      <td>28.76</td>\n",
       "    </tr>\n",
       "    <tr>\n",
       "      <th>4</th>\n",
       "      <td>2020-01-21T00:00:00.000Z</td>\n",
       "      <td>2020-01-21</td>\n",
       "      <td>225565</td>\n",
       "      <td>1202.0</td>\n",
       "      <td>9864</td>\n",
       "      <td>263</td>\n",
       "      <td>28.76</td>\n",
       "    </tr>\n",
       "  </tbody>\n",
       "</table>\n",
       "</div>"
      ],
      "text/plain": [
       "                 order_date order_date_date  customer  productAgrupationID  \\\n",
       "0  2020-01-23T00:00:00.000Z      2020-01-23    247474               1431.0   \n",
       "1  2020-01-24T00:00:00.000Z      2020-01-24    239611               1626.0   \n",
       "2  2020-01-31T00:00:00.000Z      2020-01-31    382014               1202.0   \n",
       "3  2020-01-31T00:00:00.000Z      2020-01-31    382014               1202.0   \n",
       "4  2020-01-21T00:00:00.000Z      2020-01-21    225565               1202.0   \n",
       "\n",
       "   productID  territory  product_cases_ordered  \n",
       "0      10159        262                  28.76  \n",
       "1       9968        263                  28.76  \n",
       "2       9864        279                  28.76  \n",
       "3       9863        279                  28.76  \n",
       "4       9864        263                  28.76  "
      ]
     },
     "execution_count": 50,
     "metadata": {},
     "output_type": "execute_result"
    }
   ],
   "source": [
    "data.insert(1,'order_date_date',dates)\n",
    "data.head()"
   ]
  },
  {
   "cell_type": "markdown",
   "metadata": {},
   "source": [
    "Now, we can visualize the distribution of the dates as a box plot in order to detect the range of values we are working with. Given the dataset description we were provided with, we should expect to see an even distribution of dates within the month of January of 2020, without outliers, assuming the transactions occur uninterrumptedly throughout the month."
   ]
  },
  {
   "cell_type": "code",
   "execution_count": 51,
   "metadata": {},
   "outputs": [
    {
     "name": "stdout",
     "output_type": "stream",
     "text": [
      "Lowest date value: 2020-01-02\n",
      "\n",
      "Highest date value: 2020-01-31\n"
     ]
    },
    {
     "name": "stderr",
     "output_type": "stream",
     "text": [
      "/var/folders/nv/2ttrxtqn3bq9pxbngrkdlckw0000gn/T/ipykernel_50110/1471570249.py:7: FutureWarning: \n",
      "\n",
      "Passing `palette` without assigning `hue` is deprecated and will be removed in v0.14.0. Assign the `y` variable to `hue` and set `legend=False` for the same effect.\n",
      "\n",
      "  sns.boxplot(data=data['order_date_date'],\n"
     ]
    },
    {
     "data": {
      "image/png": "[encoded data removed]",
      "text/plain": [
       "<Figure size 1000x300 with 1 Axes>"
      ]
     },
     "metadata": {},
     "output_type": "display_data"
    }
   ],
   "source": [
    "print(\"Lowest date value: {}\".format(dates.min()))\n",
    "print(\"\")\n",
    "print(\"Highest date value: {}\".format(dates.max()))\n",
    "\n",
    "# Plot the order date (date) Box Plot\n",
    "plt.figure(figsize=(10,3))\n",
    "sns.boxplot(data=data['order_date_date'],\n",
    "            orient='h',\n",
    "            palette='Blues')\n",
    "plt.grid(True, linestyle='--', alpha=0.4)\n",
    "plt.title('Box Plot of Order Dates')\n",
    "plt.xticks(rotation=45)\n",
    "plt.show()"
   ]
  },
  {
   "cell_type": "markdown",
   "metadata": {},
   "source": [
    "We can confirm that all date values are within the expected range and uniformly distributed."
   ]
  },
  {
   "cell_type": "markdown",
   "metadata": {},
   "source": [
    "> ##### **customer (ID)**\n",
    "\n",
    "From the head of the dataset we can see that some values of the customer field are composed by 6 digits integer numbers. Nevertheless, assuming all customer ID's are uniformly distributed, we should expect to see a distribution with unknown maximum and minimum values but without outliers since the customer ID's gradually increase as more customers are registered. To visualize this further, we can first extract the customer field as a series and sort it to visualize its first and last values. Then we can generate a boxplot out of the series to confirm if there are any outliers."
   ]
  },
  {
   "cell_type": "code",
   "execution_count": 52,
   "metadata": {},
   "outputs": [
    {
     "name": "stdout",
     "output_type": "stream",
     "text": [
      "Lowest customer ID values\n",
      "59676    724\n",
      "50532    724\n",
      "57035    724\n",
      "25602    724\n",
      "14382    724\n",
      "Name: customer, dtype: int64\n",
      "\n",
      "Highest customer ID values\n",
      "24003    10458539\n",
      "27530    10458539\n",
      "14942    10458539\n",
      "8103     10458539\n",
      "5263     10458539\n",
      "Name: customer, dtype: int64\n"
     ]
    },
    {
     "name": "stderr",
     "output_type": "stream",
     "text": [
      "/var/folders/nv/2ttrxtqn3bq9pxbngrkdlckw0000gn/T/ipykernel_50110/2700235098.py:10: FutureWarning: \n",
      "\n",
      "Passing `palette` without assigning `hue` is deprecated and will be removed in v0.14.0. Assign the `y` variable to `hue` and set `legend=False` for the same effect.\n",
      "\n",
      "  sns.boxplot(data=sorted_customers,\n"
     ]
    },
    {
     "data": {
      "image/png": "[encoded data removed]",
      "text/plain": [
       "<Figure size 1000x300 with 1 Axes>"
      ]
     },
     "metadata": {},
     "output_type": "display_data"
    }
   ],
   "source": [
    "sorted_customers = data['customer'].sort_values()\n",
    "print(\"Lowest customer ID values\")\n",
    "print(sorted_customers.head())\n",
    "print(\"\")\n",
    "print(\"Highest customer ID values\")\n",
    "print(sorted_customers.tail())\n",
    "\n",
    "# Plot the Customer ID Box Plot\n",
    "plt.figure(figsize=(10,3))\n",
    "sns.boxplot(data=sorted_customers,\n",
    "            orient='h',\n",
    "            palette='Blues')\n",
    "plt.grid(True, linestyle='--', alpha=0.4)\n",
    "plt.title('Box Plot of Customer (ID)')\n",
    "plt.show()"
   ]
  },
  {
   "cell_type": "markdown",
   "metadata": {},
   "source": [
    "We can see several outliers above the 10,000,000 value mark, which until now means that there might be a select group of customers whose ID is composed of 8 digits. We can further explore this by counting the amount of unique customer ID's over this threshold and checking how many entries correspond to these customers. This could even be represented by a ratio of (amount of orders)/(amount of customers) to then compare it against the same ratio but for customers under the threshold. First, we can list the customer ID's above the threshold and inspect some of the entries that include them."
   ]
  },
  {
   "cell_type": "code",
   "execution_count": 53,
   "metadata": {},
   "outputs": [
    {
     "name": "stdout",
     "output_type": "stream",
     "text": [
      "[10250750 10357744 10285709 10458539 10351421 10142416 10378253]\n"
     ]
    }
   ],
   "source": [
    "customers_over_10M = data[data['customer'] > 10000000]['customer'].unique()\n",
    "print(customers_over_10M)"
   ]
  },
  {
   "cell_type": "code",
   "execution_count": 54,
   "metadata": {},
   "outputs": [
    {
     "data": {
      "text/html": [
       "<div>\n",
       "<style scoped>\n",
       "    .dataframe tbody tr th:only-of-type {\n",
       "        vertical-align: middle;\n",
       "    }\n",
       "\n",
       "    .dataframe tbody tr th {\n",
       "        vertical-align: top;\n",
       "    }\n",
       "\n",
       "    .dataframe thead th {\n",
       "        text-align: right;\n",
       "    }\n",
       "</style>\n",
       "<table border=\"1\" class=\"dataframe\">\n",
       "  <thead>\n",
       "    <tr style=\"text-align: right;\">\n",
       "      <th></th>\n",
       "      <th>order_date</th>\n",
       "      <th>order_date_date</th>\n",
       "      <th>customer</th>\n",
       "      <th>productAgrupationID</th>\n",
       "      <th>productID</th>\n",
       "      <th>territory</th>\n",
       "      <th>product_cases_ordered</th>\n",
       "    </tr>\n",
       "  </thead>\n",
       "  <tbody>\n",
       "    <tr>\n",
       "      <th>20</th>\n",
       "      <td>2020-01-31T00:00:00.000Z</td>\n",
       "      <td>2020-01-31</td>\n",
       "      <td>10250750</td>\n",
       "      <td>1328.0</td>\n",
       "      <td>1939</td>\n",
       "      <td>263</td>\n",
       "      <td>28.76</td>\n",
       "    </tr>\n",
       "    <tr>\n",
       "      <th>21</th>\n",
       "      <td>2020-01-31T00:00:00.000Z</td>\n",
       "      <td>2020-01-31</td>\n",
       "      <td>10250750</td>\n",
       "      <td>1140.0</td>\n",
       "      <td>10211</td>\n",
       "      <td>263</td>\n",
       "      <td>28.76</td>\n",
       "    </tr>\n",
       "    <tr>\n",
       "      <th>22</th>\n",
       "      <td>2020-01-31T00:00:00.000Z</td>\n",
       "      <td>2020-01-31</td>\n",
       "      <td>10250750</td>\n",
       "      <td>1398.0</td>\n",
       "      <td>4183</td>\n",
       "      <td>263</td>\n",
       "      <td>28.76</td>\n",
       "    </tr>\n",
       "    <tr>\n",
       "      <th>47</th>\n",
       "      <td>2020-01-31T00:00:00.000Z</td>\n",
       "      <td>2020-01-31</td>\n",
       "      <td>10357744</td>\n",
       "      <td>1228.0</td>\n",
       "      <td>10262</td>\n",
       "      <td>248</td>\n",
       "      <td>28.76</td>\n",
       "    </tr>\n",
       "    <tr>\n",
       "      <th>50</th>\n",
       "      <td>2020-01-31T00:00:00.000Z</td>\n",
       "      <td>2020-01-31</td>\n",
       "      <td>10357744</td>\n",
       "      <td>1228.0</td>\n",
       "      <td>10263</td>\n",
       "      <td>248</td>\n",
       "      <td>28.76</td>\n",
       "    </tr>\n",
       "    <tr>\n",
       "      <th>...</th>\n",
       "      <td>...</td>\n",
       "      <td>...</td>\n",
       "      <td>...</td>\n",
       "      <td>...</td>\n",
       "      <td>...</td>\n",
       "      <td>...</td>\n",
       "      <td>...</td>\n",
       "    </tr>\n",
       "    <tr>\n",
       "      <th>70275</th>\n",
       "      <td>2020-01-31T00:00:00.000Z</td>\n",
       "      <td>2020-01-31</td>\n",
       "      <td>10250750</td>\n",
       "      <td>1412.0</td>\n",
       "      <td>5751</td>\n",
       "      <td>263</td>\n",
       "      <td>28.76</td>\n",
       "    </tr>\n",
       "    <tr>\n",
       "      <th>70304</th>\n",
       "      <td>2020-01-21T00:00:00.000Z</td>\n",
       "      <td>2020-01-21</td>\n",
       "      <td>10378253</td>\n",
       "      <td>1121.0</td>\n",
       "      <td>877</td>\n",
       "      <td>252</td>\n",
       "      <td>28.76</td>\n",
       "    </tr>\n",
       "    <tr>\n",
       "      <th>70333</th>\n",
       "      <td>2020-01-23T00:00:00.000Z</td>\n",
       "      <td>2020-01-23</td>\n",
       "      <td>10378253</td>\n",
       "      <td>1121.0</td>\n",
       "      <td>877</td>\n",
       "      <td>252</td>\n",
       "      <td>28.76</td>\n",
       "    </tr>\n",
       "    <tr>\n",
       "      <th>70365</th>\n",
       "      <td>2020-01-20T00:00:00.000Z</td>\n",
       "      <td>2020-01-20</td>\n",
       "      <td>10250750</td>\n",
       "      <td>1121.0</td>\n",
       "      <td>877</td>\n",
       "      <td>263</td>\n",
       "      <td>28.76</td>\n",
       "    </tr>\n",
       "    <tr>\n",
       "      <th>70385</th>\n",
       "      <td>2020-01-22T00:00:00.000Z</td>\n",
       "      <td>2020-01-22</td>\n",
       "      <td>10250750</td>\n",
       "      <td>1121.0</td>\n",
       "      <td>877</td>\n",
       "      <td>263</td>\n",
       "      <td>28.76</td>\n",
       "    </tr>\n",
       "  </tbody>\n",
       "</table>\n",
       "<p>4021 rows × 7 columns</p>\n",
       "</div>"
      ],
      "text/plain": [
       "                     order_date order_date_date  customer  \\\n",
       "20     2020-01-31T00:00:00.000Z      2020-01-31  10250750   \n",
       "21     2020-01-31T00:00:00.000Z      2020-01-31  10250750   \n",
       "22     2020-01-31T00:00:00.000Z      2020-01-31  10250750   \n",
       "47     2020-01-31T00:00:00.000Z      2020-01-31  10357744   \n",
       "50     2020-01-31T00:00:00.000Z      2020-01-31  10357744   \n",
       "...                         ...             ...       ...   \n",
       "70275  2020-01-31T00:00:00.000Z      2020-01-31  10250750   \n",
       "70304  2020-01-21T00:00:00.000Z      2020-01-21  10378253   \n",
       "70333  2020-01-23T00:00:00.000Z      2020-01-23  10378253   \n",
       "70365  2020-01-20T00:00:00.000Z      2020-01-20  10250750   \n",
       "70385  2020-01-22T00:00:00.000Z      2020-01-22  10250750   \n",
       "\n",
       "       productAgrupationID  productID  territory  product_cases_ordered  \n",
       "20                  1328.0       1939        263                  28.76  \n",
       "21                  1140.0      10211        263                  28.76  \n",
       "22                  1398.0       4183        263                  28.76  \n",
       "47                  1228.0      10262        248                  28.76  \n",
       "50                  1228.0      10263        248                  28.76  \n",
       "...                    ...        ...        ...                    ...  \n",
       "70275               1412.0       5751        263                  28.76  \n",
       "70304               1121.0        877        252                  28.76  \n",
       "70333               1121.0        877        252                  28.76  \n",
       "70365               1121.0        877        263                  28.76  \n",
       "70385               1121.0        877        263                  28.76  \n",
       "\n",
       "[4021 rows x 7 columns]"
      ]
     },
     "execution_count": 54,
     "metadata": {},
     "output_type": "execute_result"
    }
   ],
   "source": [
    "orders_with_customer_over_10M = data[data['customer'].isin(customers_over_10M)]\n",
    "orders_with_customer_over_10M\n"
   ]
  },
  {
   "cell_type": "markdown",
   "metadata": {},
   "source": [
    "We can now compute the ratio of orders by customer ID's over 10M by the amount of customer ID's over 10M."
   ]
  },
  {
   "cell_type": "code",
   "execution_count": 55,
   "metadata": {},
   "outputs": [
    {
     "data": {
      "text/plain": [
       "574.4285714285714"
      ]
     },
     "execution_count": 55,
     "metadata": {},
     "output_type": "execute_result"
    }
   ],
   "source": [
    "outliers_ratio = orders_with_customer_over_10M.shape[0]/len(customers_over_10M)\n",
    "outliers_ratio"
   ]
  },
  {
   "cell_type": "markdown",
   "metadata": {},
   "source": [
    "The computation can be repeated for the customer ID's under 10M."
   ]
  },
  {
   "cell_type": "code",
   "execution_count": 56,
   "metadata": {},
   "outputs": [
    {
     "name": "stdout",
     "output_type": "stream",
     "text": [
      "Average orders per customer with ID above 10000000: 574.43\n",
      "Average orders per customer with ID under 10000000: 597.39\n"
     ]
    }
   ],
   "source": [
    "customers_under_10M = data[data['customer'] < 10000000]['customer'].unique()\n",
    "orders_with_customer_under_10M = data[data['customer'].isin(customers_under_10M)]\n",
    "non_outliers_ratio = orders_with_customer_under_10M.shape[0]/len(customers_under_10M)\n",
    "\n",
    "print(\"Average orders per customer with ID above 10000000: {}\".format(round(outliers_ratio,2)))\n",
    "print(\"Average orders per customer with ID under 10000000: {}\".format(round(non_outliers_ratio,2)))"
   ]
  },
  {
   "cell_type": "markdown",
   "metadata": {},
   "source": [
    "Since both groups of customers show quite similar average orders per customer, we can consider the outliers as valid customer ID's."
   ]
  },
  {
   "cell_type": "markdown",
   "metadata": {},
   "source": [
    "> ##### **productAgrupationID (product_agrupation_ID)**\n",
    "\n",
    "This field is of the data type float64, which may seem strange for a unique identifier. This makes us suspect that there might be one or more non integer value within the column which in case should be discarded. Even if no values are discarded at the end, it is also good practice to cast the data type of that column to integer aswell. Regarding the name of the column, since we are mixing snake and camel case, we can change its name to snake_case just for uniformity."
   ]
  },
  {
   "cell_type": "code",
   "execution_count": 57,
   "metadata": {},
   "outputs": [
    {
     "data": {
      "text/plain": [
       "Index(['order_date', 'order_date_date', 'customer', 'productAgrupationID',\n",
       "       'productID', 'territory', 'product_cases_ordered'],\n",
       "      dtype='object')"
      ]
     },
     "execution_count": 57,
     "metadata": {},
     "output_type": "execute_result"
    }
   ],
   "source": [
    "# Rename the column\n",
    "column_names = data.columns\n",
    "column_names"
   ]
  },
  {
   "cell_type": "markdown",
   "metadata": {},
   "source": [
    "We can also rename the productID columnn at once."
   ]
  },
  {
   "cell_type": "code",
   "execution_count": 58,
   "metadata": {},
   "outputs": [
    {
     "data": {
      "text/plain": [
       "Index(['order_date', 'order_date_date', 'customer', 'product_agrupation_ID',\n",
       "       'product_ID', 'territory', 'product_cases_ordered'],\n",
       "      dtype='object')"
      ]
     },
     "execution_count": 58,
     "metadata": {},
     "output_type": "execute_result"
    }
   ],
   "source": [
    "new_column_names = ['order_date', 'order_date_date', 'customer', 'product_agrupation_ID',\n",
    "       'product_ID', 'territory', 'product_cases_ordered']\n",
    "\n",
    "data.columns = new_column_names\n",
    "data.columns"
   ]
  },
  {
   "cell_type": "markdown",
   "metadata": {},
   "source": [
    "Now we can check if the column product_agrupation_ID contains any non integer values. We can do this by creating a dummy function that returns the negated result of calling the is_integer() method on its parameter, and then applying this function on the column."
   ]
  },
  {
   "cell_type": "code",
   "execution_count": 59,
   "metadata": {},
   "outputs": [
    {
     "name": "stdout",
     "output_type": "stream",
     "text": [
      "The product_agrupation_ID column contains 0 non numerical integer values\n"
     ]
    }
   ],
   "source": [
    "# Dummy function\n",
    "def is_not_int(value):\n",
    "    return not value.is_integer()\n",
    "\n",
    "non_integer_product_agrupation_ID_amount = data[\"product_agrupation_ID\"].apply(is_not_int).sum()\n",
    "print(\"The product_agrupation_ID column contains {} non numerical integer values\".format(non_integer_product_agrupation_ID_amount))"
   ]
  },
  {
   "cell_type": "markdown",
   "metadata": {},
   "source": [
    "Since there are no non numerical integer values in the column we can simply just change its data type to int64."
   ]
  },
  {
   "cell_type": "code",
   "execution_count": 60,
   "metadata": {},
   "outputs": [
    {
     "data": {
      "text/html": [
       "<div>\n",
       "<style scoped>\n",
       "    .dataframe tbody tr th:only-of-type {\n",
       "        vertical-align: middle;\n",
       "    }\n",
       "\n",
       "    .dataframe tbody tr th {\n",
       "        vertical-align: top;\n",
       "    }\n",
       "\n",
       "    .dataframe thead th {\n",
       "        text-align: right;\n",
       "    }\n",
       "</style>\n",
       "<table border=\"1\" class=\"dataframe\">\n",
       "  <thead>\n",
       "    <tr style=\"text-align: right;\">\n",
       "      <th></th>\n",
       "      <th>order_date</th>\n",
       "      <th>order_date_date</th>\n",
       "      <th>customer</th>\n",
       "      <th>product_agrupation_ID</th>\n",
       "      <th>product_ID</th>\n",
       "      <th>territory</th>\n",
       "      <th>product_cases_ordered</th>\n",
       "    </tr>\n",
       "  </thead>\n",
       "  <tbody>\n",
       "    <tr>\n",
       "      <th>0</th>\n",
       "      <td>2020-01-23T00:00:00.000Z</td>\n",
       "      <td>2020-01-23</td>\n",
       "      <td>247474</td>\n",
       "      <td>1431</td>\n",
       "      <td>10159</td>\n",
       "      <td>262</td>\n",
       "      <td>28.76</td>\n",
       "    </tr>\n",
       "    <tr>\n",
       "      <th>1</th>\n",
       "      <td>2020-01-24T00:00:00.000Z</td>\n",
       "      <td>2020-01-24</td>\n",
       "      <td>239611</td>\n",
       "      <td>1626</td>\n",
       "      <td>9968</td>\n",
       "      <td>263</td>\n",
       "      <td>28.76</td>\n",
       "    </tr>\n",
       "    <tr>\n",
       "      <th>2</th>\n",
       "      <td>2020-01-31T00:00:00.000Z</td>\n",
       "      <td>2020-01-31</td>\n",
       "      <td>382014</td>\n",
       "      <td>1202</td>\n",
       "      <td>9864</td>\n",
       "      <td>279</td>\n",
       "      <td>28.76</td>\n",
       "    </tr>\n",
       "    <tr>\n",
       "      <th>3</th>\n",
       "      <td>2020-01-31T00:00:00.000Z</td>\n",
       "      <td>2020-01-31</td>\n",
       "      <td>382014</td>\n",
       "      <td>1202</td>\n",
       "      <td>9863</td>\n",
       "      <td>279</td>\n",
       "      <td>28.76</td>\n",
       "    </tr>\n",
       "    <tr>\n",
       "      <th>4</th>\n",
       "      <td>2020-01-21T00:00:00.000Z</td>\n",
       "      <td>2020-01-21</td>\n",
       "      <td>225565</td>\n",
       "      <td>1202</td>\n",
       "      <td>9864</td>\n",
       "      <td>263</td>\n",
       "      <td>28.76</td>\n",
       "    </tr>\n",
       "  </tbody>\n",
       "</table>\n",
       "</div>"
      ],
      "text/plain": [
       "                 order_date order_date_date  customer  product_agrupation_ID  \\\n",
       "0  2020-01-23T00:00:00.000Z      2020-01-23    247474                   1431   \n",
       "1  2020-01-24T00:00:00.000Z      2020-01-24    239611                   1626   \n",
       "2  2020-01-31T00:00:00.000Z      2020-01-31    382014                   1202   \n",
       "3  2020-01-31T00:00:00.000Z      2020-01-31    382014                   1202   \n",
       "4  2020-01-21T00:00:00.000Z      2020-01-21    225565                   1202   \n",
       "\n",
       "   product_ID  territory  product_cases_ordered  \n",
       "0       10159        262                  28.76  \n",
       "1        9968        263                  28.76  \n",
       "2        9864        279                  28.76  \n",
       "3        9863        279                  28.76  \n",
       "4        9864        263                  28.76  "
      ]
     },
     "execution_count": 60,
     "metadata": {},
     "output_type": "execute_result"
    }
   ],
   "source": [
    "data['product_agrupation_ID'] = data['product_agrupation_ID'].astype(int)\n",
    "data.head()"
   ]
  },
  {
   "cell_type": "markdown",
   "metadata": {},
   "source": [
    "It could also be very valuable to inspect for values that only ocurr extremely low times such as only once, because this could indicate an error in the entry. This could be done by using the **value_counts()** method and visualizing the tail values."
   ]
  },
  {
   "cell_type": "code",
   "execution_count": 61,
   "metadata": {},
   "outputs": [
    {
     "data": {
      "text/plain": [
       "product_agrupation_ID\n",
       "1129    2\n",
       "1605    2\n",
       "1615    2\n",
       "1311    2\n",
       "1281    1\n",
       "1455    1\n",
       "1061    1\n",
       "1531    1\n",
       "1429    1\n",
       "1603    1\n",
       "Name: count, dtype: int64"
      ]
     },
     "execution_count": 61,
     "metadata": {},
     "output_type": "execute_result"
    }
   ],
   "source": [
    "data['product_agrupation_ID'].value_counts().tail(10)"
   ]
  },
  {
   "cell_type": "markdown",
   "metadata": {},
   "source": [
    "We can see 6 product agrupation ID's with a value of one, but since we don't have the list of posible ID's for this field, we can view the complete 6 entries and verify if they have any suspicious or common values."
   ]
  },
  {
   "cell_type": "code",
   "execution_count": 62,
   "metadata": {},
   "outputs": [
    {
     "data": {
      "text/html": [
       "<div>\n",
       "<style scoped>\n",
       "    .dataframe tbody tr th:only-of-type {\n",
       "        vertical-align: middle;\n",
       "    }\n",
       "\n",
       "    .dataframe tbody tr th {\n",
       "        vertical-align: top;\n",
       "    }\n",
       "\n",
       "    .dataframe thead th {\n",
       "        text-align: right;\n",
       "    }\n",
       "</style>\n",
       "<table border=\"1\" class=\"dataframe\">\n",
       "  <thead>\n",
       "    <tr style=\"text-align: right;\">\n",
       "      <th></th>\n",
       "      <th>order_date</th>\n",
       "      <th>order_date_date</th>\n",
       "      <th>customer</th>\n",
       "      <th>product_agrupation_ID</th>\n",
       "      <th>product_ID</th>\n",
       "      <th>territory</th>\n",
       "      <th>product_cases_ordered</th>\n",
       "    </tr>\n",
       "  </thead>\n",
       "  <tbody>\n",
       "    <tr>\n",
       "      <th>2980</th>\n",
       "      <td>2020-01-07T00:00:00.000Z</td>\n",
       "      <td>2020-01-07</td>\n",
       "      <td>465155</td>\n",
       "      <td>1281</td>\n",
       "      <td>6616</td>\n",
       "      <td>252</td>\n",
       "      <td>29.76</td>\n",
       "    </tr>\n",
       "    <tr>\n",
       "      <th>14930</th>\n",
       "      <td>2020-01-27T00:00:00.000Z</td>\n",
       "      <td>2020-01-27</td>\n",
       "      <td>467183</td>\n",
       "      <td>1061</td>\n",
       "      <td>6454</td>\n",
       "      <td>252</td>\n",
       "      <td>29.76</td>\n",
       "    </tr>\n",
       "    <tr>\n",
       "      <th>25225</th>\n",
       "      <td>2020-01-23T00:00:00.000Z</td>\n",
       "      <td>2020-01-23</td>\n",
       "      <td>466910</td>\n",
       "      <td>1455</td>\n",
       "      <td>4467</td>\n",
       "      <td>252</td>\n",
       "      <td>25.76</td>\n",
       "    </tr>\n",
       "    <tr>\n",
       "      <th>37662</th>\n",
       "      <td>2020-01-15T00:00:00.000Z</td>\n",
       "      <td>2020-01-15</td>\n",
       "      <td>162333</td>\n",
       "      <td>1531</td>\n",
       "      <td>3141</td>\n",
       "      <td>289</td>\n",
       "      <td>28.76</td>\n",
       "    </tr>\n",
       "    <tr>\n",
       "      <th>50293</th>\n",
       "      <td>2020-01-20T00:00:00.000Z</td>\n",
       "      <td>2020-01-20</td>\n",
       "      <td>377848</td>\n",
       "      <td>1429</td>\n",
       "      <td>5068</td>\n",
       "      <td>279</td>\n",
       "      <td>28.76</td>\n",
       "    </tr>\n",
       "    <tr>\n",
       "      <th>54128</th>\n",
       "      <td>2020-01-02T00:00:00.000Z</td>\n",
       "      <td>2020-01-02</td>\n",
       "      <td>157540</td>\n",
       "      <td>1603</td>\n",
       "      <td>3052</td>\n",
       "      <td>289</td>\n",
       "      <td>28.76</td>\n",
       "    </tr>\n",
       "  </tbody>\n",
       "</table>\n",
       "</div>"
      ],
      "text/plain": [
       "                     order_date order_date_date  customer  \\\n",
       "2980   2020-01-07T00:00:00.000Z      2020-01-07    465155   \n",
       "14930  2020-01-27T00:00:00.000Z      2020-01-27    467183   \n",
       "25225  2020-01-23T00:00:00.000Z      2020-01-23    466910   \n",
       "37662  2020-01-15T00:00:00.000Z      2020-01-15    162333   \n",
       "50293  2020-01-20T00:00:00.000Z      2020-01-20    377848   \n",
       "54128  2020-01-02T00:00:00.000Z      2020-01-02    157540   \n",
       "\n",
       "       product_agrupation_ID  product_ID  territory  product_cases_ordered  \n",
       "2980                    1281        6616        252                  29.76  \n",
       "14930                   1061        6454        252                  29.76  \n",
       "25225                   1455        4467        252                  25.76  \n",
       "37662                   1531        3141        289                  28.76  \n",
       "50293                   1429        5068        279                  28.76  \n",
       "54128                   1603        3052        289                  28.76  "
      ]
     },
     "execution_count": 62,
     "metadata": {},
     "output_type": "execute_result"
    }
   ],
   "source": [
    "data[data['product_agrupation_ID'].isin([1281,1455,1061,1531,1429,1603])]"
   ]
  },
  {
   "cell_type": "markdown",
   "metadata": {},
   "source": [
    "None of the values seem suspcious with the current iformation the we have, so we can keep these entries."
   ]
  },
  {
   "cell_type": "markdown",
   "metadata": {},
   "source": [
    "> ##### **productID (product_ID)**\n",
    "\n",
    "The name of this column was just previously changed to camel case. For this field, similarly to the customer ID, we could expect continous values with no outliers."
   ]
  },
  {
   "cell_type": "code",
   "execution_count": 63,
   "metadata": {},
   "outputs": [
    {
     "name": "stdout",
     "output_type": "stream",
     "text": [
      "Lowest product ID value: 778\n",
      "\n",
      "Highest product ID value: 14903\n"
     ]
    },
    {
     "name": "stderr",
     "output_type": "stream",
     "text": [
      "/var/folders/nv/2ttrxtqn3bq9pxbngrkdlckw0000gn/T/ipykernel_50110/2756875408.py:7: FutureWarning: \n",
      "\n",
      "Passing `palette` without assigning `hue` is deprecated and will be removed in v0.14.0. Assign the `y` variable to `hue` and set `legend=False` for the same effect.\n",
      "\n",
      "  sns.boxplot(data=data['product_ID'],\n"
     ]
    },
    {
     "data": {
      "image/png": "[encoded data removed]",
      "text/plain": [
       "<Figure size 600x300 with 1 Axes>"
      ]
     },
     "metadata": {},
     "output_type": "display_data"
    }
   ],
   "source": [
    "print(\"Lowest product ID value: {}\".format(data['product_ID'].min()))\n",
    "print(\"\")\n",
    "print(\"Highest product ID value: {}\".format(data['product_ID'].max()))\n",
    "\n",
    "# Plot the order date (date) Box Plot\n",
    "plt.figure(figsize=(6,3))\n",
    "sns.boxplot(data=data['product_ID'],\n",
    "            orient='h',\n",
    "            palette='Blues')\n",
    "plt.grid(True, linestyle='--', alpha=0.4)\n",
    "plt.title('Box Plot of Product IDs')\n",
    "plt.xticks(rotation=45)\n",
    "plt.show()"
   ]
  },
  {
   "cell_type": "markdown",
   "metadata": {},
   "source": [
    "We can see some product ID's outlying above the 14000 mark. Similar to what we did with the customer ID's, we can inspect the amount of outliers and determine and how many entries have these values in the product_ID field. We can then compare the proportion against the product ID's under 14000."
   ]
  },
  {
   "cell_type": "code",
   "execution_count": 64,
   "metadata": {},
   "outputs": [
    {
     "name": "stdout",
     "output_type": "stream",
     "text": [
      "Average orders per customer with ID above 14000: 25.7\n",
      "Average orders per customer with ID under 14000: 106.07\n"
     ]
    }
   ],
   "source": [
    "product_IDs_over_14K = data[data['product_ID'] > 14000]['product_ID'].unique()\n",
    "orders_with_product_ID_over_14K = data[data['product_ID'].isin(product_IDs_over_14K)]\n",
    "outliers_ratio = orders_with_product_ID_over_14K.shape[0]/len(product_IDs_over_14K)\n",
    "\n",
    "product_IDs_under_14K = data[data['product_ID'] < 14000]['product_ID'].unique()\n",
    "orders_with_product_ID_under_14K = data[data['product_ID'].isin(product_IDs_under_14K)]\n",
    "non_outliers_ratio = orders_with_product_ID_under_14K.shape[0]/len(product_IDs_under_14K)\n",
    "\n",
    "print(\"Average orders per customer with ID above 14000: {}\".format(round(outliers_ratio,2)))\n",
    "print(\"Average orders per customer with ID under 14000: {}\".format(round(non_outliers_ratio,2)))"
   ]
  },
  {
   "cell_type": "markdown",
   "metadata": {},
   "source": [
    "In this case, the proportions are quite different, which tells us that products with an ID above 14000 might be more rare or more specific, therefore involved in less transactions. Nevertheless, we can view some entries that include these product ID's and see if we notice something strange."
   ]
  },
  {
   "cell_type": "code",
   "execution_count": 65,
   "metadata": {},
   "outputs": [
    {
     "data": {
      "text/html": [
       "<div>\n",
       "<style scoped>\n",
       "    .dataframe tbody tr th:only-of-type {\n",
       "        vertical-align: middle;\n",
       "    }\n",
       "\n",
       "    .dataframe tbody tr th {\n",
       "        vertical-align: top;\n",
       "    }\n",
       "\n",
       "    .dataframe thead th {\n",
       "        text-align: right;\n",
       "    }\n",
       "</style>\n",
       "<table border=\"1\" class=\"dataframe\">\n",
       "  <thead>\n",
       "    <tr style=\"text-align: right;\">\n",
       "      <th></th>\n",
       "      <th>order_date</th>\n",
       "      <th>order_date_date</th>\n",
       "      <th>customer</th>\n",
       "      <th>product_agrupation_ID</th>\n",
       "      <th>product_ID</th>\n",
       "      <th>territory</th>\n",
       "      <th>product_cases_ordered</th>\n",
       "    </tr>\n",
       "  </thead>\n",
       "  <tbody>\n",
       "    <tr>\n",
       "      <th>71</th>\n",
       "      <td>2020-01-20T00:00:00.000Z</td>\n",
       "      <td>2020-01-20</td>\n",
       "      <td>49835</td>\n",
       "      <td>1127</td>\n",
       "      <td>14897</td>\n",
       "      <td>245</td>\n",
       "      <td>28.76</td>\n",
       "    </tr>\n",
       "    <tr>\n",
       "      <th>103</th>\n",
       "      <td>2020-01-23T00:00:00.000Z</td>\n",
       "      <td>2020-01-23</td>\n",
       "      <td>247474</td>\n",
       "      <td>1431</td>\n",
       "      <td>14837</td>\n",
       "      <td>262</td>\n",
       "      <td>28.76</td>\n",
       "    </tr>\n",
       "    <tr>\n",
       "      <th>122</th>\n",
       "      <td>2020-01-31T00:00:00.000Z</td>\n",
       "      <td>2020-01-31</td>\n",
       "      <td>244274</td>\n",
       "      <td>1431</td>\n",
       "      <td>14837</td>\n",
       "      <td>263</td>\n",
       "      <td>28.76</td>\n",
       "    </tr>\n",
       "    <tr>\n",
       "      <th>167</th>\n",
       "      <td>2020-01-31T00:00:00.000Z</td>\n",
       "      <td>2020-01-31</td>\n",
       "      <td>444292</td>\n",
       "      <td>1543</td>\n",
       "      <td>14870</td>\n",
       "      <td>246</td>\n",
       "      <td>28.76</td>\n",
       "    </tr>\n",
       "    <tr>\n",
       "      <th>169</th>\n",
       "      <td>2020-01-21T00:00:00.000Z</td>\n",
       "      <td>2020-01-21</td>\n",
       "      <td>464057</td>\n",
       "      <td>1543</td>\n",
       "      <td>14870</td>\n",
       "      <td>246</td>\n",
       "      <td>28.76</td>\n",
       "    </tr>\n",
       "    <tr>\n",
       "      <th>...</th>\n",
       "      <td>...</td>\n",
       "      <td>...</td>\n",
       "      <td>...</td>\n",
       "      <td>...</td>\n",
       "      <td>...</td>\n",
       "      <td>...</td>\n",
       "      <td>...</td>\n",
       "    </tr>\n",
       "    <tr>\n",
       "      <th>70094</th>\n",
       "      <td>2020-01-18T00:00:00.000Z</td>\n",
       "      <td>2020-01-18</td>\n",
       "      <td>605394</td>\n",
       "      <td>1521</td>\n",
       "      <td>14789</td>\n",
       "      <td>263</td>\n",
       "      <td>28.76</td>\n",
       "    </tr>\n",
       "    <tr>\n",
       "      <th>70109</th>\n",
       "      <td>2020-01-18T00:00:00.000Z</td>\n",
       "      <td>2020-01-18</td>\n",
       "      <td>228455</td>\n",
       "      <td>1431</td>\n",
       "      <td>14837</td>\n",
       "      <td>263</td>\n",
       "      <td>28.76</td>\n",
       "    </tr>\n",
       "    <tr>\n",
       "      <th>70111</th>\n",
       "      <td>2020-01-14T00:00:00.000Z</td>\n",
       "      <td>2020-01-14</td>\n",
       "      <td>97717</td>\n",
       "      <td>1431</td>\n",
       "      <td>14837</td>\n",
       "      <td>301</td>\n",
       "      <td>29.76</td>\n",
       "    </tr>\n",
       "    <tr>\n",
       "      <th>70131</th>\n",
       "      <td>2020-01-18T00:00:00.000Z</td>\n",
       "      <td>2020-01-18</td>\n",
       "      <td>444292</td>\n",
       "      <td>1461</td>\n",
       "      <td>14898</td>\n",
       "      <td>246</td>\n",
       "      <td>32.76</td>\n",
       "    </tr>\n",
       "    <tr>\n",
       "      <th>70135</th>\n",
       "      <td>2020-01-17T00:00:00.000Z</td>\n",
       "      <td>2020-01-17</td>\n",
       "      <td>235365</td>\n",
       "      <td>1431</td>\n",
       "      <td>14837</td>\n",
       "      <td>263</td>\n",
       "      <td>28.76</td>\n",
       "    </tr>\n",
       "  </tbody>\n",
       "</table>\n",
       "<p>1028 rows × 7 columns</p>\n",
       "</div>"
      ],
      "text/plain": [
       "                     order_date order_date_date  customer  \\\n",
       "71     2020-01-20T00:00:00.000Z      2020-01-20     49835   \n",
       "103    2020-01-23T00:00:00.000Z      2020-01-23    247474   \n",
       "122    2020-01-31T00:00:00.000Z      2020-01-31    244274   \n",
       "167    2020-01-31T00:00:00.000Z      2020-01-31    444292   \n",
       "169    2020-01-21T00:00:00.000Z      2020-01-21    464057   \n",
       "...                         ...             ...       ...   \n",
       "70094  2020-01-18T00:00:00.000Z      2020-01-18    605394   \n",
       "70109  2020-01-18T00:00:00.000Z      2020-01-18    228455   \n",
       "70111  2020-01-14T00:00:00.000Z      2020-01-14     97717   \n",
       "70131  2020-01-18T00:00:00.000Z      2020-01-18    444292   \n",
       "70135  2020-01-17T00:00:00.000Z      2020-01-17    235365   \n",
       "\n",
       "       product_agrupation_ID  product_ID  territory  product_cases_ordered  \n",
       "71                      1127       14897        245                  28.76  \n",
       "103                     1431       14837        262                  28.76  \n",
       "122                     1431       14837        263                  28.76  \n",
       "167                     1543       14870        246                  28.76  \n",
       "169                     1543       14870        246                  28.76  \n",
       "...                      ...         ...        ...                    ...  \n",
       "70094                   1521       14789        263                  28.76  \n",
       "70109                   1431       14837        263                  28.76  \n",
       "70111                   1431       14837        301                  29.76  \n",
       "70131                   1461       14898        246                  32.76  \n",
       "70135                   1431       14837        263                  28.76  \n",
       "\n",
       "[1028 rows x 7 columns]"
      ]
     },
     "execution_count": 65,
     "metadata": {},
     "output_type": "execute_result"
    }
   ],
   "source": [
    "orders_with_product_ID_over_14K"
   ]
  },
  {
   "cell_type": "markdown",
   "metadata": {},
   "source": [
    "At first glance we can not spot any strange behavior compared to what we have previously seen, and given that those product ID's still have in average 25 transactions each, we can consider them non-suspicious and keep those entries in the data set."
   ]
  },
  {
   "cell_type": "markdown",
   "metadata": {},
   "source": [
    "> ##### **territory**\n",
    "\n",
    "This field represents the region in which the sale took place. An example we have is that the city of Monterrey is represented by the integer 245. We can further visualize the values this field takes using a box plot aswell. Intuitively and thinking about [the company's presence](https://www.arcacontal.com/divisiones-operativas/bebidas-m%C3%A9xico.aspx) in 14 Mexican states and several other countries, this field might have a less broader amount of unique values compared to the rest of the fields. Therefore, obtaining the amount of unique territories could be very useful to make sense of what these territory values actually mean.\n"
   ]
  },
  {
   "cell_type": "code",
   "execution_count": 66,
   "metadata": {},
   "outputs": [
    {
     "name": "stdout",
     "output_type": "stream",
     "text": [
      "Lowest territory value: 245\n",
      "\n",
      "Highest territory ID value: 316\n",
      "\n",
      "Distinct territories: 20\n"
     ]
    },
    {
     "name": "stderr",
     "output_type": "stream",
     "text": [
      "/var/folders/nv/2ttrxtqn3bq9pxbngrkdlckw0000gn/T/ipykernel_50110/1444178975.py:9: FutureWarning: \n",
      "\n",
      "Passing `palette` without assigning `hue` is deprecated and will be removed in v0.14.0. Assign the `y` variable to `hue` and set `legend=False` for the same effect.\n",
      "\n",
      "  sns.boxplot(data=data['territory'],\n"
     ]
    },
    {
     "data": {
      "image/png": "[encoded data removed]",
      "text/plain": [
       "<Figure size 600x300 with 1 Axes>"
      ]
     },
     "metadata": {},
     "output_type": "display_data"
    }
   ],
   "source": [
    "print(\"Lowest territory value: {}\".format(data['territory'].min()))\n",
    "print(\"\")\n",
    "print(\"Highest territory ID value: {}\".format(data['territory'].max()))\n",
    "print(\"\")\n",
    "print(\"Distinct territories: {}\".format(len(data['territory'].unique())))\n",
    "\n",
    "# Plot the order date (date) Box Plot\n",
    "plt.figure(figsize=(6,3))\n",
    "sns.boxplot(data=data['territory'],\n",
    "            orient='h',\n",
    "            palette='Blues')\n",
    "plt.grid(True, linestyle='--', alpha=0.4)\n",
    "plt.title('Box Plot of Territory (ID)')\n",
    "plt.xticks(rotation=45)\n",
    "plt.show()"
   ]
  },
  {
   "cell_type": "markdown",
   "metadata": {},
   "source": [
    "First of all, we can see that out of the 20 possible territory values, the upper 6 are statistically considered as outliers, leaving 14 territories as non-outliers, matching the presence of the company in the Mexican states. \n",
    "\n",
    "We can also perform the same ratio analysis to determine how many average orders took place in the outlier territories."
   ]
  },
  {
   "cell_type": "code",
   "execution_count": 67,
   "metadata": {},
   "outputs": [
    {
     "name": "stdout",
     "output_type": "stream",
     "text": [
      "Average orders per territory with value above 280: 1321.83\n",
      "Average orders per territory with value under 280: 3689.07\n"
     ]
    }
   ],
   "source": [
    "territories_over_280 = data[data['territory'] > 280]['territory'].unique()\n",
    "orders_with_territory_over_280 = data[data['territory'].isin(territories_over_280)]\n",
    "outliers_ratio = orders_with_territory_over_280.shape[0]/len(territories_over_280)\n",
    "\n",
    "territories_under_280 = data[data['territory'] < 280]['territory'].unique()\n",
    "orders_with_territory_under_280 = data[data['territory'].isin(territories_under_280)]\n",
    "non_outliers_ratio = orders_with_territory_under_280.shape[0]/len(territories_under_280)\n",
    "\n",
    "print(\"Average orders per territory with value above 280: {}\".format(round(outliers_ratio,2)))\n",
    "print(\"Average orders per territory with value under 280: {}\".format(round(non_outliers_ratio,2)))"
   ]
  },
  {
   "cell_type": "markdown",
   "metadata": {},
   "source": [
    "Both ratios show a high average amount of orders per territory, but since there are in average significantly less orders in the outlier territories, we could deduce that this due to the company having a stronger salesforce in the Mexican territory rather than abroad. It could still be beneficial to deepen our analysis in the territory group above 280, iterating over each one checking if there is a territory with suspiciously low orders."
   ]
  },
  {
   "cell_type": "code",
   "execution_count": 68,
   "metadata": {},
   "outputs": [
    {
     "name": "stdout",
     "output_type": "stream",
     "text": [
      "Territory 316 has 2401 associated orders.\n",
      "Territory 301 has 1816 associated orders.\n",
      "Territory 284 has 577 associated orders.\n",
      "Territory 296 has 1119 associated orders.\n",
      "Territory 286 has 1166 associated orders.\n",
      "Territory 289 has 852 associated orders.\n"
     ]
    }
   ],
   "source": [
    "for territory in territories_over_280:\n",
    "    amount_of_orders = data[data['territory'] == territory].shape[0]\n",
    "    print(\"Territory {} has {} associated orders.\".format(territory, amount_of_orders))"
   ]
  },
  {
   "cell_type": "markdown",
   "metadata": {},
   "source": [
    "They all seem to have a low but significant amount of orders so we could most safely keep them in our dataset."
   ]
  },
  {
   "cell_type": "markdown",
   "metadata": {},
   "source": [
    "Now, asuming that the non-outlier territories correspond to the Mexican state and considering that code 245 corresponds to Monterrey (Nuevo León), we can distribute the other 13 states per each code from 245 until before 280 as they appear in the previously attached link (placing Nuevo León first to match 245):\n",
    "\n",
    "**Nuevo León, Tamaulipas, ~~Nuevo León~~, Coahuila, San Luis Potosí, Aguascalientes, Zacatecas, Chihuahua, Durango, Sonora, Baja California Norte, Baja California Sur, Sinaloa, Jalisco and Colima.**\n",
    "\n",
    "We will create a dictionary to establish this relationship."
   ]
  },
  {
   "cell_type": "code",
   "execution_count": 69,
   "metadata": {},
   "outputs": [
    {
     "data": {
      "text/plain": [
       "{245: 'Nuevo León',\n",
       " 246: 'Tamaulipas',\n",
       " 247: 'Coahuila',\n",
       " 248: 'San Luis Potosí',\n",
       " 250: 'Aguascalientes',\n",
       " 251: 'Zacatecas',\n",
       " 252: 'Chihuahua',\n",
       " 262: 'Durango',\n",
       " 263: 'Sonora',\n",
       " 264: 'Baja California Norte',\n",
       " 265: 'Baja California Sur',\n",
       " 267: 'Sinaloa',\n",
       " 268: 'Jalisco',\n",
       " 279: 'Colima'}"
      ]
     },
     "execution_count": 69,
     "metadata": {},
     "output_type": "execute_result"
    }
   ],
   "source": [
    "region = {}\n",
    "mexican_states = [\"Nuevo León\", \"Tamaulipas\", \"Coahuila\", \"San Luis Potosí\", \"Aguascalientes\", \"Zacatecas\", \"Chihuahua\", \"Durango\", \"Sonora\", \"Baja California Norte\", \"Baja California Sur\", \"Sinaloa\", \"Jalisco\", \"Colima\"]\n",
    "for idx, territory in enumerate(sorted(territories_under_280)):\n",
    "    region[territory] = mexican_states[idx]\n",
    "region"
   ]
  },
  {
   "cell_type": "markdown",
   "metadata": {},
   "source": [
    "Regarding the remaining 6 regions, we can see that [in the USA](https://www.arcacontal.com/divisiones-operativas/bebidas-estados-unidos.aspx) there is presence in Texas, New Mexico, Oklahoma and Arkansas, whilst [in South America](https://www.arcacontal.com/divisiones-operativas/bebidas-sudam%C3%A9rica.aspx) there is presence in Argentina, Ecuador and Perú. This adds up to 7 but for simplification we can ignore New Mexico since it is the entitiy with the lowest population out of the seven. We could even list the remaining 6 entities by population and define the relationship with the 6 outliers matching the amount of orders in descending order with the population.\n",
    "\n",
    "**In order of population we have:** \n",
    "1. Argentina\n",
    "2. Peru\n",
    "3. Texas\n",
    "4. Ecuador\n",
    "5. Oklahoma\n",
    "6. Arkansas\n",
    "\n",
    "**Matching:**\n",
    "1. Territory 316: 2401 associated orders.\n",
    "2. Territory 301: 1816 associated orders.\n",
    "3. Territory 296: 1119 associated orders.\n",
    "4. Territory 286: 1166 associated orders.\n",
    "5. Territory 289: 852 associated orders.\n",
    "6. Territory 284: 577 associated orders.\n",
    "\n",
    "We can manually create append this information to the dictionary containing the relationship between the territory and the Mexican states previously defined."
   ]
  },
  {
   "cell_type": "code",
   "execution_count": 70,
   "metadata": {},
   "outputs": [
    {
     "data": {
      "text/plain": [
       "{245: 'Nuevo León',\n",
       " 246: 'Tamaulipas',\n",
       " 247: 'Coahuila',\n",
       " 248: 'San Luis Potosí',\n",
       " 250: 'Aguascalientes',\n",
       " 251: 'Zacatecas',\n",
       " 252: 'Chihuahua',\n",
       " 262: 'Durango',\n",
       " 263: 'Sonora',\n",
       " 264: 'Baja California Norte',\n",
       " 265: 'Baja California Sur',\n",
       " 267: 'Sinaloa',\n",
       " 268: 'Jalisco',\n",
       " 279: 'Colima',\n",
       " 316: 'Argentina',\n",
       " 301: 'Peru',\n",
       " 296: 'Texas',\n",
       " 286: 'Ecuador',\n",
       " 289: 'Oklahoma',\n",
       " 284: 'Arkansas'}"
      ]
     },
     "execution_count": 70,
     "metadata": {},
     "output_type": "execute_result"
    }
   ],
   "source": [
    "abroad_region = {316:\"Argentina\",\n",
    "                301:\"Peru\",\n",
    "                296:\"Texas\",\n",
    "                286:\"Ecuador\",\n",
    "                289:\"Oklahoma\",\n",
    "                284:\"Arkansas\"}\n",
    "\n",
    "regions = region.update(abroad_region)\n",
    "region"
   ]
  },
  {
   "cell_type": "markdown",
   "metadata": {},
   "source": [
    "Now that we have a translation for each one of the posible territory values, we can apply a lambda function to the territory column, that accesses the region dictionary passing each territory value to create a new column called region."
   ]
  },
  {
   "cell_type": "code",
   "execution_count": 71,
   "metadata": {},
   "outputs": [
    {
     "data": {
      "text/html": [
       "<div>\n",
       "<style scoped>\n",
       "    .dataframe tbody tr th:only-of-type {\n",
       "        vertical-align: middle;\n",
       "    }\n",
       "\n",
       "    .dataframe tbody tr th {\n",
       "        vertical-align: top;\n",
       "    }\n",
       "\n",
       "    .dataframe thead th {\n",
       "        text-align: right;\n",
       "    }\n",
       "</style>\n",
       "<table border=\"1\" class=\"dataframe\">\n",
       "  <thead>\n",
       "    <tr style=\"text-align: right;\">\n",
       "      <th></th>\n",
       "      <th>order_date</th>\n",
       "      <th>order_date_date</th>\n",
       "      <th>customer</th>\n",
       "      <th>product_agrupation_ID</th>\n",
       "      <th>product_ID</th>\n",
       "      <th>territory</th>\n",
       "      <th>product_cases_ordered</th>\n",
       "      <th>region</th>\n",
       "    </tr>\n",
       "  </thead>\n",
       "  <tbody>\n",
       "    <tr>\n",
       "      <th>0</th>\n",
       "      <td>2020-01-23T00:00:00.000Z</td>\n",
       "      <td>2020-01-23</td>\n",
       "      <td>247474</td>\n",
       "      <td>1431</td>\n",
       "      <td>10159</td>\n",
       "      <td>262</td>\n",
       "      <td>28.76</td>\n",
       "      <td>Durango</td>\n",
       "    </tr>\n",
       "    <tr>\n",
       "      <th>1</th>\n",
       "      <td>2020-01-24T00:00:00.000Z</td>\n",
       "      <td>2020-01-24</td>\n",
       "      <td>239611</td>\n",
       "      <td>1626</td>\n",
       "      <td>9968</td>\n",
       "      <td>263</td>\n",
       "      <td>28.76</td>\n",
       "      <td>Sonora</td>\n",
       "    </tr>\n",
       "    <tr>\n",
       "      <th>2</th>\n",
       "      <td>2020-01-31T00:00:00.000Z</td>\n",
       "      <td>2020-01-31</td>\n",
       "      <td>382014</td>\n",
       "      <td>1202</td>\n",
       "      <td>9864</td>\n",
       "      <td>279</td>\n",
       "      <td>28.76</td>\n",
       "      <td>Colima</td>\n",
       "    </tr>\n",
       "    <tr>\n",
       "      <th>3</th>\n",
       "      <td>2020-01-31T00:00:00.000Z</td>\n",
       "      <td>2020-01-31</td>\n",
       "      <td>382014</td>\n",
       "      <td>1202</td>\n",
       "      <td>9863</td>\n",
       "      <td>279</td>\n",
       "      <td>28.76</td>\n",
       "      <td>Colima</td>\n",
       "    </tr>\n",
       "    <tr>\n",
       "      <th>4</th>\n",
       "      <td>2020-01-21T00:00:00.000Z</td>\n",
       "      <td>2020-01-21</td>\n",
       "      <td>225565</td>\n",
       "      <td>1202</td>\n",
       "      <td>9864</td>\n",
       "      <td>263</td>\n",
       "      <td>28.76</td>\n",
       "      <td>Sonora</td>\n",
       "    </tr>\n",
       "  </tbody>\n",
       "</table>\n",
       "</div>"
      ],
      "text/plain": [
       "                 order_date order_date_date  customer  product_agrupation_ID  \\\n",
       "0  2020-01-23T00:00:00.000Z      2020-01-23    247474                   1431   \n",
       "1  2020-01-24T00:00:00.000Z      2020-01-24    239611                   1626   \n",
       "2  2020-01-31T00:00:00.000Z      2020-01-31    382014                   1202   \n",
       "3  2020-01-31T00:00:00.000Z      2020-01-31    382014                   1202   \n",
       "4  2020-01-21T00:00:00.000Z      2020-01-21    225565                   1202   \n",
       "\n",
       "   product_ID  territory  product_cases_ordered   region  \n",
       "0       10159        262                  28.76  Durango  \n",
       "1        9968        263                  28.76   Sonora  \n",
       "2        9864        279                  28.76   Colima  \n",
       "3        9863        279                  28.76   Colima  \n",
       "4        9864        263                  28.76   Sonora  "
      ]
     },
     "execution_count": 71,
     "metadata": {},
     "output_type": "execute_result"
    }
   ],
   "source": [
    "data['region'] = data['territory'].apply(lambda territory: region[territory])\n",
    "data.head()"
   ]
  },
  {
   "cell_type": "markdown",
   "metadata": {},
   "source": [
    "> ##### **product_cases_ordered**\n",
    "\n",
    "This final field corresponds to the amount of cases of the product that were ordered in every sale. What grabs our attention at first glance is that the values seem to be represented with floating points, while it only makes sense to picture cases as units (integers). We can visualize the distribution of these values using a boxplot too."
   ]
  },
  {
   "cell_type": "code",
   "execution_count": 72,
   "metadata": {},
   "outputs": [
    {
     "name": "stdout",
     "output_type": "stream",
     "text": [
      "Least product cases ordered: -32.239999999999995\n",
      "\n",
      "Most product cases ordered: 519.76\n"
     ]
    },
    {
     "data": {
      "image/png": "[encoded data removed]",
      "text/plain": [
       "<Figure size 1000x300 with 1 Axes>"
      ]
     },
     "metadata": {},
     "output_type": "display_data"
    }
   ],
   "source": [
    "print(\"Least product cases ordered: {}\".format(data['product_cases_ordered'].min()))\n",
    "print(\"\")\n",
    "print(\"Most product cases ordered: {}\".format(data['product_cases_ordered'].max()))\n",
    "\n",
    "# Plot the order date (date) Box Plot\n",
    "plt.figure(figsize=(10,3))\n",
    "sns.boxplot(data=data['product_cases_ordered'],\n",
    "            orient='h')\n",
    "plt.grid(True, linestyle='--', alpha=0.4)\n",
    "plt.title(\"Box Plot of Product Cases Ordered\")\n",
    "plt.xticks(rotation=45)\n",
    "plt.show()"
   ]
  },
  {
   "cell_type": "markdown",
   "metadata": {},
   "source": [
    "From the previous plot we can obtain 3 main takeaways:\n",
    "1. There are some negative values that need to be rejected from our data.\n",
    "2. The amount of sold cases is **highly** concentrated at about 30.\n",
    "3. There was a transaction that registered more that 500 sold cases.\n",
    "\n",
    "The last point does not necesarilly imply a wrong data input. We have little information to determine whether this is the case. Perhaps we can just inspect the full row and keep it in mind in case the results appear to be biased by this specific datapoint later on."
   ]
  },
  {
   "cell_type": "code",
   "execution_count": 73,
   "metadata": {},
   "outputs": [
    {
     "data": {
      "text/html": [
       "<div>\n",
       "<style scoped>\n",
       "    .dataframe tbody tr th:only-of-type {\n",
       "        vertical-align: middle;\n",
       "    }\n",
       "\n",
       "    .dataframe tbody tr th {\n",
       "        vertical-align: top;\n",
       "    }\n",
       "\n",
       "    .dataframe thead th {\n",
       "        text-align: right;\n",
       "    }\n",
       "</style>\n",
       "<table border=\"1\" class=\"dataframe\">\n",
       "  <thead>\n",
       "    <tr style=\"text-align: right;\">\n",
       "      <th></th>\n",
       "      <th>order_date</th>\n",
       "      <th>order_date_date</th>\n",
       "      <th>customer</th>\n",
       "      <th>product_agrupation_ID</th>\n",
       "      <th>product_ID</th>\n",
       "      <th>territory</th>\n",
       "      <th>product_cases_ordered</th>\n",
       "      <th>region</th>\n",
       "    </tr>\n",
       "  </thead>\n",
       "  <tbody>\n",
       "    <tr>\n",
       "      <th>42451</th>\n",
       "      <td>2020-01-29T00:00:00.000Z</td>\n",
       "      <td>2020-01-29</td>\n",
       "      <td>466910</td>\n",
       "      <td>1121</td>\n",
       "      <td>877</td>\n",
       "      <td>252</td>\n",
       "      <td>519.76</td>\n",
       "      <td>Chihuahua</td>\n",
       "    </tr>\n",
       "  </tbody>\n",
       "</table>\n",
       "</div>"
      ],
      "text/plain": [
       "                     order_date order_date_date  customer  \\\n",
       "42451  2020-01-29T00:00:00.000Z      2020-01-29    466910   \n",
       "\n",
       "       product_agrupation_ID  product_ID  territory  product_cases_ordered  \\\n",
       "42451                   1121         877        252                 519.76   \n",
       "\n",
       "          region  \n",
       "42451  Chihuahua  "
      ]
     },
     "execution_count": 73,
     "metadata": {},
     "output_type": "execute_result"
    }
   ],
   "source": [
    "data[data['product_cases_ordered'] > 500]"
   ]
  },
  {
   "cell_type": "markdown",
   "metadata": {},
   "source": [
    "To deal with the negative data points, we can keep the columns with values greater than 0."
   ]
  },
  {
   "cell_type": "code",
   "execution_count": 74,
   "metadata": {},
   "outputs": [
    {
     "data": {
      "text/html": [
       "<div>\n",
       "<style scoped>\n",
       "    .dataframe tbody tr th:only-of-type {\n",
       "        vertical-align: middle;\n",
       "    }\n",
       "\n",
       "    .dataframe tbody tr th {\n",
       "        vertical-align: top;\n",
       "    }\n",
       "\n",
       "    .dataframe thead th {\n",
       "        text-align: right;\n",
       "    }\n",
       "</style>\n",
       "<table border=\"1\" class=\"dataframe\">\n",
       "  <thead>\n",
       "    <tr style=\"text-align: right;\">\n",
       "      <th></th>\n",
       "      <th>order_date</th>\n",
       "      <th>order_date_date</th>\n",
       "      <th>customer</th>\n",
       "      <th>product_agrupation_ID</th>\n",
       "      <th>product_ID</th>\n",
       "      <th>territory</th>\n",
       "      <th>product_cases_ordered</th>\n",
       "      <th>region</th>\n",
       "    </tr>\n",
       "  </thead>\n",
       "  <tbody>\n",
       "    <tr>\n",
       "      <th>0</th>\n",
       "      <td>2020-01-23T00:00:00.000Z</td>\n",
       "      <td>2020-01-23</td>\n",
       "      <td>247474</td>\n",
       "      <td>1431</td>\n",
       "      <td>10159</td>\n",
       "      <td>262</td>\n",
       "      <td>28.76</td>\n",
       "      <td>Durango</td>\n",
       "    </tr>\n",
       "    <tr>\n",
       "      <th>1</th>\n",
       "      <td>2020-01-24T00:00:00.000Z</td>\n",
       "      <td>2020-01-24</td>\n",
       "      <td>239611</td>\n",
       "      <td>1626</td>\n",
       "      <td>9968</td>\n",
       "      <td>263</td>\n",
       "      <td>28.76</td>\n",
       "      <td>Sonora</td>\n",
       "    </tr>\n",
       "    <tr>\n",
       "      <th>2</th>\n",
       "      <td>2020-01-31T00:00:00.000Z</td>\n",
       "      <td>2020-01-31</td>\n",
       "      <td>382014</td>\n",
       "      <td>1202</td>\n",
       "      <td>9864</td>\n",
       "      <td>279</td>\n",
       "      <td>28.76</td>\n",
       "      <td>Colima</td>\n",
       "    </tr>\n",
       "    <tr>\n",
       "      <th>3</th>\n",
       "      <td>2020-01-31T00:00:00.000Z</td>\n",
       "      <td>2020-01-31</td>\n",
       "      <td>382014</td>\n",
       "      <td>1202</td>\n",
       "      <td>9863</td>\n",
       "      <td>279</td>\n",
       "      <td>28.76</td>\n",
       "      <td>Colima</td>\n",
       "    </tr>\n",
       "    <tr>\n",
       "      <th>4</th>\n",
       "      <td>2020-01-21T00:00:00.000Z</td>\n",
       "      <td>2020-01-21</td>\n",
       "      <td>225565</td>\n",
       "      <td>1202</td>\n",
       "      <td>9864</td>\n",
       "      <td>263</td>\n",
       "      <td>28.76</td>\n",
       "      <td>Sonora</td>\n",
       "    </tr>\n",
       "    <tr>\n",
       "      <th>...</th>\n",
       "      <td>...</td>\n",
       "      <td>...</td>\n",
       "      <td>...</td>\n",
       "      <td>...</td>\n",
       "      <td>...</td>\n",
       "      <td>...</td>\n",
       "      <td>...</td>\n",
       "      <td>...</td>\n",
       "    </tr>\n",
       "    <tr>\n",
       "      <th>70387</th>\n",
       "      <td>2020-01-21T00:00:00.000Z</td>\n",
       "      <td>2020-01-21</td>\n",
       "      <td>50733</td>\n",
       "      <td>1499</td>\n",
       "      <td>3367</td>\n",
       "      <td>245</td>\n",
       "      <td>28.76</td>\n",
       "      <td>Nuevo León</td>\n",
       "    </tr>\n",
       "    <tr>\n",
       "      <th>70388</th>\n",
       "      <td>2020-01-07T00:00:00.000Z</td>\n",
       "      <td>2020-01-07</td>\n",
       "      <td>240204</td>\n",
       "      <td>1121</td>\n",
       "      <td>877</td>\n",
       "      <td>263</td>\n",
       "      <td>28.76</td>\n",
       "      <td>Sonora</td>\n",
       "    </tr>\n",
       "    <tr>\n",
       "      <th>70390</th>\n",
       "      <td>2020-01-07T00:00:00.000Z</td>\n",
       "      <td>2020-01-07</td>\n",
       "      <td>241174</td>\n",
       "      <td>1121</td>\n",
       "      <td>877</td>\n",
       "      <td>263</td>\n",
       "      <td>28.76</td>\n",
       "      <td>Sonora</td>\n",
       "    </tr>\n",
       "    <tr>\n",
       "      <th>70391</th>\n",
       "      <td>2020-01-08T00:00:00.000Z</td>\n",
       "      <td>2020-01-08</td>\n",
       "      <td>221231</td>\n",
       "      <td>1121</td>\n",
       "      <td>877</td>\n",
       "      <td>263</td>\n",
       "      <td>28.76</td>\n",
       "      <td>Sonora</td>\n",
       "    </tr>\n",
       "    <tr>\n",
       "      <th>70392</th>\n",
       "      <td>2020-01-06T00:00:00.000Z</td>\n",
       "      <td>2020-01-06</td>\n",
       "      <td>221231</td>\n",
       "      <td>1121</td>\n",
       "      <td>877</td>\n",
       "      <td>263</td>\n",
       "      <td>28.76</td>\n",
       "      <td>Sonora</td>\n",
       "    </tr>\n",
       "  </tbody>\n",
       "</table>\n",
       "<p>59572 rows × 8 columns</p>\n",
       "</div>"
      ],
      "text/plain": [
       "                     order_date order_date_date  customer  \\\n",
       "0      2020-01-23T00:00:00.000Z      2020-01-23    247474   \n",
       "1      2020-01-24T00:00:00.000Z      2020-01-24    239611   \n",
       "2      2020-01-31T00:00:00.000Z      2020-01-31    382014   \n",
       "3      2020-01-31T00:00:00.000Z      2020-01-31    382014   \n",
       "4      2020-01-21T00:00:00.000Z      2020-01-21    225565   \n",
       "...                         ...             ...       ...   \n",
       "70387  2020-01-21T00:00:00.000Z      2020-01-21     50733   \n",
       "70388  2020-01-07T00:00:00.000Z      2020-01-07    240204   \n",
       "70390  2020-01-07T00:00:00.000Z      2020-01-07    241174   \n",
       "70391  2020-01-08T00:00:00.000Z      2020-01-08    221231   \n",
       "70392  2020-01-06T00:00:00.000Z      2020-01-06    221231   \n",
       "\n",
       "       product_agrupation_ID  product_ID  territory  product_cases_ordered  \\\n",
       "0                       1431       10159        262                  28.76   \n",
       "1                       1626        9968        263                  28.76   \n",
       "2                       1202        9864        279                  28.76   \n",
       "3                       1202        9863        279                  28.76   \n",
       "4                       1202        9864        263                  28.76   \n",
       "...                      ...         ...        ...                    ...   \n",
       "70387                   1499        3367        245                  28.76   \n",
       "70388                   1121         877        263                  28.76   \n",
       "70390                   1121         877        263                  28.76   \n",
       "70391                   1121         877        263                  28.76   \n",
       "70392                   1121         877        263                  28.76   \n",
       "\n",
       "           region  \n",
       "0         Durango  \n",
       "1          Sonora  \n",
       "2          Colima  \n",
       "3          Colima  \n",
       "4          Sonora  \n",
       "...           ...  \n",
       "70387  Nuevo León  \n",
       "70388      Sonora  \n",
       "70390      Sonora  \n",
       "70391      Sonora  \n",
       "70392      Sonora  \n",
       "\n",
       "[59572 rows x 8 columns]"
      ]
     },
     "execution_count": 74,
     "metadata": {},
     "output_type": "execute_result"
    }
   ],
   "source": [
    "data = data[data['product_cases_ordered'] > 0]\n",
    "data"
   ]
  },
  {
   "cell_type": "markdown",
   "metadata": {},
   "source": [
    "Now, as all of the questions to be answered depend on a comparative analysis, we could either linearly adjust the whole product_cases_ordered column by a certain factor and then cast the values to integer, or just leave them as they are. We choose the first option to have friendlier values to visualize and interpret further on. There is a third option which is to directly just round the values, but if they happen to proportionally represent something else when it comes to the product cases, rounding will affect this proportion.\n",
    "\n",
    "We can first visualize some of the values contained in this column:"
   ]
  },
  {
   "cell_type": "code",
   "execution_count": 75,
   "metadata": {},
   "outputs": [
    {
     "data": {
      "text/plain": [
       "[2.7600000000000016,\n",
       " 3.7600000000000016,\n",
       " 7.760000000000002,\n",
       " 8.760000000000002,\n",
       " 9.760000000000002,\n",
       " 12.760000000000002,\n",
       " 14.760000000000002,\n",
       " 15.760000000000002,\n",
       " 16.76,\n",
       " 17.76,\n",
       " 18.76,\n",
       " 19.76,\n",
       " 20.76,\n",
       " 21.76,\n",
       " 22.76,\n",
       " 23.76,\n",
       " 24.01,\n",
       " 24.76,\n",
       " 25.76,\n",
       " 26.76,\n",
       " 26.761000000000003,\n",
       " 26.843,\n",
       " 26.885,\n",
       " 26.927000000000003,\n",
       " 27.01,\n",
       " 27.093,\n",
       " 27.094,\n",
       " 27.135,\n",
       " 27.177000000000003,\n",
       " 27.259,\n",
       " 27.26,\n",
       " 27.302000000000003,\n",
       " 27.343,\n",
       " 27.360000000000003,\n",
       " 27.385,\n",
       " 27.426,\n",
       " 27.427000000000003,\n",
       " 27.468,\n",
       " 27.51,\n",
       " 27.552000000000003,\n",
       " 27.593,\n",
       " 27.635,\n",
       " 27.66,\n",
       " 27.677000000000003,\n",
       " 27.718,\n",
       " 27.732000000000003,\n",
       " 27.739,\n",
       " 27.802000000000003,\n",
       " 27.843,\n",
       " 27.860000000000003,\n",
       " 27.885,\n",
       " 27.927000000000003,\n",
       " 27.968,\n",
       " 28.01,\n",
       " 28.052000000000003,\n",
       " 28.093,\n",
       " 28.094,\n",
       " 28.135,\n",
       " 28.16,\n",
       " 28.218,\n",
       " 28.26,\n",
       " 28.261000000000003,\n",
       " 28.302000000000003,\n",
       " 28.385,\n",
       " 28.426,\n",
       " 28.427000000000003,\n",
       " 28.428,\n",
       " 28.468,\n",
       " 28.51,\n",
       " 28.593,\n",
       " 28.595,\n",
       " 28.759,\n",
       " 28.76,\n",
       " 28.762,\n",
       " 28.885,\n",
       " 29.01,\n",
       " 29.092,\n",
       " 29.26,\n",
       " 29.425,\n",
       " 29.43,\n",
       " 29.51,\n",
       " 29.635,\n",
       " 29.758000000000003,\n",
       " 29.76,\n",
       " 30.01,\n",
       " 30.26,\n",
       " 30.76,\n",
       " 31.51,\n",
       " 31.76,\n",
       " 32.760000000000005,\n",
       " 33.760000000000005,\n",
       " 34.760000000000005,\n",
       " 35.260000000000005,\n",
       " 35.760000000000005,\n",
       " 36.760000000000005,\n",
       " 37.760000000000005,\n",
       " 38.760000000000005,\n",
       " 39.760000000000005,\n",
       " 40.760000000000005,\n",
       " 41.760000000000005,\n",
       " 42.760000000000005,\n",
       " 43.760000000000005,\n",
       " 44.760000000000005,\n",
       " 45.760000000000005,\n",
       " 46.760000000000005,\n",
       " 47.760000000000005,\n",
       " 48.760000000000005,\n",
       " 49.760000000000005,\n",
       " 50.760000000000005,\n",
       " 51.760000000000005,\n",
       " 52.760000000000005,\n",
       " 53.760000000000005,\n",
       " 54.760000000000005,\n",
       " 55.760000000000005,\n",
       " 56.760000000000005,\n",
       " 57.760000000000005,\n",
       " 58.760000000000005,\n",
       " 59.760000000000005,\n",
       " 60.760000000000005,\n",
       " 62.760000000000005,\n",
       " 63.760000000000005,\n",
       " 64.76,\n",
       " 65.76,\n",
       " 66.76,\n",
       " 67.76,\n",
       " 68.76,\n",
       " 69.76,\n",
       " 70.76,\n",
       " 71.76,\n",
       " 72.76,\n",
       " 73.76,\n",
       " 74.76,\n",
       " 75.76,\n",
       " 77.76,\n",
       " 78.76,\n",
       " 79.76,\n",
       " 81.76,\n",
       " 82.76,\n",
       " 87.76,\n",
       " 91.76,\n",
       " 92.76,\n",
       " 97.76,\n",
       " 107.76,\n",
       " 111.76,\n",
       " 116.76,\n",
       " 122.76,\n",
       " 123.76,\n",
       " 127.76,\n",
       " 141.76,\n",
       " 147.76,\n",
       " 157.76,\n",
       " 171.76,\n",
       " 519.76]"
      ]
     },
     "execution_count": 75,
     "metadata": {},
     "output_type": "execute_result"
    }
   ],
   "source": [
    "sorted(data['product_cases_ordered'].unique())"
   ]
  },
  {
   "cell_type": "markdown",
   "metadata": {},
   "source": [
    "It appears to be safe to adjust the whole column by a factor of 100 and then cast it to integer to get rid of 2 decimal places which appear at the head and the tail fo the possible values."
   ]
  },
  {
   "cell_type": "code",
   "execution_count": 76,
   "metadata": {},
   "outputs": [
    {
     "data": {
      "text/plain": [
       "array([ 2876,  2801,  2809,  2792,  2788,  2976,  2826,  2816,  2813,\n",
       "        2851,  3176,  3276,  3076,  3776,  3376,  2901,  4276,  7776,\n",
       "        2842,  9776,  4176,  2763,  3576,  2859,  3476,  5276,  4776,\n",
       "        3676,  3876,  4576,  5776,  3976,  2759,  2786,  2875,  2767,\n",
       "        5676,  2926,  3026,  6776,  2576,  2751,  2676,  3151,  2771,\n",
       "        2726,  2709,  2476,  2796,  4676,  4376,  1476,  1676,  2076,\n",
       "        5976,  4076,   976,  1976,  2276,  6276,  1876,  2176,  4976,\n",
       "        2742,  2888,  5376, 10776,  5176,  6576,  2738,  6076,  2376,\n",
       "        2734,  2942,  3001,  3526,  2951,  7876,  2701,  2725,  2755,\n",
       "        6376,  8776,  5476,  1576,  1276,  1776,  9176,  6476, 17176,\n",
       "       15776,  2784,  7176,  2830,  2684,  2717,  5576,  7976, 12376,\n",
       "        2773,  5076,  8176,  2943, 11676,  6976,  2963,  2780,  4876,\n",
       "        4476, 12776,  2975,   776,  2713, 51976,   876,  7476,  7576,\n",
       "        2909,  2821,  2846, 12276,  6676,   376,  2805,  2401,  2736,\n",
       "        2766, 14776,  7076,  7376,  9276,  5876,   276,  2692, 14176,\n",
       "        7276, 11176,  2838,  2730,  2688,  2746,  8276,  6876])"
      ]
     },
     "execution_count": 76,
     "metadata": {},
     "output_type": "execute_result"
    }
   ],
   "source": [
    "data['product_cases_ordered_adjusted'] = (data['product_cases_ordered']*100).astype(int)\n",
    "data['product_cases_ordered_adjusted'].unique()"
   ]
  },
  {
   "cell_type": "markdown",
   "metadata": {},
   "source": [
    "We can see that the values were propperly adjusted, and maybe they are too big for performing a single variable analysis like checking on the amount of sales for a single territory or customer, but to compare between variables it should work well, since we are respecting any possible proportion the original values might have represented. \n",
    "\n",
    "**This approach ignores the posibility of there being an entry error that adds random decimals to the product_cases_ordered column.**"
   ]
  },
  {
   "cell_type": "markdown",
   "metadata": {},
   "source": [
    "### **Analysis**\n",
    "\n",
    "Now that the data is clean, we can start performing our visualization analysis in order to answer the stated questions."
   ]
  },
  {
   "cell_type": "markdown",
   "metadata": {},
   "source": [
    "> #### **Top five customers who placed the most orders in January.**\n",
    " \n",
    "This can be obtained by grouping the dataframe by customer (ID) and aggregating by product_cases_ordered_adjusted."
   ]
  },
  {
   "cell_type": "code",
   "execution_count": 77,
   "metadata": {},
   "outputs": [
    {
     "data": {
      "text/html": [
       "<div>\n",
       "<style scoped>\n",
       "    .dataframe tbody tr th:only-of-type {\n",
       "        vertical-align: middle;\n",
       "    }\n",
       "\n",
       "    .dataframe tbody tr th {\n",
       "        vertical-align: top;\n",
       "    }\n",
       "\n",
       "    .dataframe thead th {\n",
       "        text-align: right;\n",
       "    }\n",
       "</style>\n",
       "<table border=\"1\" class=\"dataframe\">\n",
       "  <thead>\n",
       "    <tr style=\"text-align: right;\">\n",
       "      <th></th>\n",
       "      <th>customer</th>\n",
       "      <th>product_cases_ordered_adjusted</th>\n",
       "    </tr>\n",
       "  </thead>\n",
       "  <tbody>\n",
       "    <tr>\n",
       "      <th>0</th>\n",
       "      <td>247474</td>\n",
       "      <td>2960167</td>\n",
       "    </tr>\n",
       "    <tr>\n",
       "      <th>1</th>\n",
       "      <td>488882</td>\n",
       "      <td>2799118</td>\n",
       "    </tr>\n",
       "    <tr>\n",
       "      <th>2</th>\n",
       "      <td>49295</td>\n",
       "      <td>2735736</td>\n",
       "    </tr>\n",
       "    <tr>\n",
       "      <th>3</th>\n",
       "      <td>214634</td>\n",
       "      <td>2652695</td>\n",
       "    </tr>\n",
       "    <tr>\n",
       "      <th>4</th>\n",
       "      <td>262320</td>\n",
       "      <td>2506143</td>\n",
       "    </tr>\n",
       "  </tbody>\n",
       "</table>\n",
       "</div>"
      ],
      "text/plain": [
       "   customer  product_cases_ordered_adjusted\n",
       "0    247474                         2960167\n",
       "1    488882                         2799118\n",
       "2     49295                         2735736\n",
       "3    214634                         2652695\n",
       "4    262320                         2506143"
      ]
     },
     "execution_count": 77,
     "metadata": {},
     "output_type": "execute_result"
    }
   ],
   "source": [
    "most_orders_by_customer = data.groupby('customer')['product_cases_ordered_adjusted'].sum().sort_values(ascending=False).to_frame().reset_index().head(5)\n",
    "most_orders_by_customer"
   ]
  },
  {
   "cell_type": "code",
   "execution_count": 78,
   "metadata": {},
   "outputs": [
    {
     "data": {
      "image/png": "[encoded data removed]",
      "text/plain": [
       "<Figure size 640x480 with 1 Axes>"
      ]
     },
     "metadata": {},
     "output_type": "display_data"
    }
   ],
   "source": [
    "plt.Figure(figsize=(6,6))\n",
    "sns.barplot(data=most_orders_by_customer,\n",
    "            x='customer',\n",
    "            y='product_cases_ordered_adjusted',\n",
    "            order=most_orders_by_customer['customer'],\n",
    "            hue='product_cases_ordered_adjusted',\n",
    "            legend=False)\n",
    "plt.title(\"Top 5 Customers by Total Ordered Product Cases\")\n",
    "plt.xlabel(\"Customer (ID)\")\n",
    "plt.ylabel(\"Sum of Adjusted Ordered Product Cases\")\n",
    "plt.show()"
   ]
  },
  {
   "cell_type": "markdown",
   "metadata": {},
   "source": [
    "> #### **Most popular productAgrupationID based on the total number of cases ordered.**\n",
    "\n",
    "Similar to the previous question, this can be obtained by grouping by product_agrupation_ID and aggregating by product_cases_ordered_adjusted."
   ]
  },
  {
   "cell_type": "code",
   "execution_count": 79,
   "metadata": {},
   "outputs": [
    {
     "data": {
      "text/html": [
       "<div>\n",
       "<style scoped>\n",
       "    .dataframe tbody tr th:only-of-type {\n",
       "        vertical-align: middle;\n",
       "    }\n",
       "\n",
       "    .dataframe tbody tr th {\n",
       "        vertical-align: top;\n",
       "    }\n",
       "\n",
       "    .dataframe thead th {\n",
       "        text-align: right;\n",
       "    }\n",
       "</style>\n",
       "<table border=\"1\" class=\"dataframe\">\n",
       "  <thead>\n",
       "    <tr style=\"text-align: right;\">\n",
       "      <th></th>\n",
       "      <th>product_agrupation_ID</th>\n",
       "      <th>product_cases_ordered_adjusted</th>\n",
       "    </tr>\n",
       "  </thead>\n",
       "  <tbody>\n",
       "    <tr>\n",
       "      <th>0</th>\n",
       "      <td>1121</td>\n",
       "      <td>5715184</td>\n",
       "    </tr>\n",
       "    <tr>\n",
       "      <th>1</th>\n",
       "      <td>1104</td>\n",
       "      <td>5160877</td>\n",
       "    </tr>\n",
       "    <tr>\n",
       "      <th>2</th>\n",
       "      <td>1123</td>\n",
       "      <td>4670763</td>\n",
       "    </tr>\n",
       "    <tr>\n",
       "      <th>3</th>\n",
       "      <td>1103</td>\n",
       "      <td>4528110</td>\n",
       "    </tr>\n",
       "    <tr>\n",
       "      <th>4</th>\n",
       "      <td>1202</td>\n",
       "      <td>4366794</td>\n",
       "    </tr>\n",
       "  </tbody>\n",
       "</table>\n",
       "</div>"
      ],
      "text/plain": [
       "   product_agrupation_ID  product_cases_ordered_adjusted\n",
       "0                   1121                         5715184\n",
       "1                   1104                         5160877\n",
       "2                   1123                         4670763\n",
       "3                   1103                         4528110\n",
       "4                   1202                         4366794"
      ]
     },
     "execution_count": 79,
     "metadata": {},
     "output_type": "execute_result"
    }
   ],
   "source": [
    "most_orders_by_product_agrupation_ID = data.groupby('product_agrupation_ID')['product_cases_ordered_adjusted'].sum().sort_values(ascending=False).to_frame().reset_index().head(5)\n",
    "most_orders_by_product_agrupation_ID"
   ]
  },
  {
   "cell_type": "markdown",
   "metadata": {},
   "source": [
    "We can see that the most popular product agrupation ID was **1121**.\n",
    "We can further visualize this result by plotting another barplot with the top 5 most popular product agrupation IDs."
   ]
  },
  {
   "cell_type": "code",
   "execution_count": 80,
   "metadata": {},
   "outputs": [
    {
     "data": {
      "image/png": "[encoded data removed]",
      "text/plain": [
       "<Figure size 640x480 with 1 Axes>"
      ]
     },
     "metadata": {},
     "output_type": "display_data"
    }
   ],
   "source": [
    "plt.Figure(figsize=(6,6))\n",
    "sns.barplot(data=most_orders_by_product_agrupation_ID,\n",
    "            y='product_agrupation_ID',\n",
    "            x='product_cases_ordered_adjusted',\n",
    "            order=most_orders_by_product_agrupation_ID['product_agrupation_ID'],\n",
    "            hue='product_cases_ordered_adjusted',\n",
    "            orient='h',\n",
    "            legend=False)\n",
    "plt.title(\"Top 5 Product Agrupation IDs by Total Ordered Product Cases\")\n",
    "plt.xlabel(\"Sum of Adjusted Ordered Product Cases\")\n",
    "plt.ylabel(\"Product Agrupation ID\")\n",
    "plt.show()"
   ]
  },
  {
   "cell_type": "markdown",
   "metadata": {},
   "source": [
    "> #### **Most ordered product ID of each productAgrupationID.**\n",
    "\n",
    "To obtain this information, we can group the dataset by product_agrupation_ID and apply a lambda function on agregation to exctract the first mode. This dataframe can be individually exported to csv to be easily visualized using Tableau."
   ]
  },
  {
   "cell_type": "code",
   "execution_count": 81,
   "metadata": {},
   "outputs": [
    {
     "data": {
      "text/html": [
       "<div>\n",
       "<style scoped>\n",
       "    .dataframe tbody tr th:only-of-type {\n",
       "        vertical-align: middle;\n",
       "    }\n",
       "\n",
       "    .dataframe tbody tr th {\n",
       "        vertical-align: top;\n",
       "    }\n",
       "\n",
       "    .dataframe thead th {\n",
       "        text-align: right;\n",
       "    }\n",
       "</style>\n",
       "<table border=\"1\" class=\"dataframe\">\n",
       "  <thead>\n",
       "    <tr style=\"text-align: right;\">\n",
       "      <th></th>\n",
       "      <th>product_agrupation_ID</th>\n",
       "      <th>product_ID</th>\n",
       "    </tr>\n",
       "  </thead>\n",
       "  <tbody>\n",
       "    <tr>\n",
       "      <th>0</th>\n",
       "      <td>1021</td>\n",
       "      <td>3996</td>\n",
       "    </tr>\n",
       "    <tr>\n",
       "      <th>1</th>\n",
       "      <td>1023</td>\n",
       "      <td>4205</td>\n",
       "    </tr>\n",
       "    <tr>\n",
       "      <th>2</th>\n",
       "      <td>1025</td>\n",
       "      <td>4163</td>\n",
       "    </tr>\n",
       "    <tr>\n",
       "      <th>3</th>\n",
       "      <td>1027</td>\n",
       "      <td>4341</td>\n",
       "    </tr>\n",
       "    <tr>\n",
       "      <th>4</th>\n",
       "      <td>1037</td>\n",
       "      <td>1297</td>\n",
       "    </tr>\n",
       "    <tr>\n",
       "      <th>...</th>\n",
       "      <td>...</td>\n",
       "      <td>...</td>\n",
       "    </tr>\n",
       "    <tr>\n",
       "      <th>218</th>\n",
       "      <td>1626</td>\n",
       "      <td>9968</td>\n",
       "    </tr>\n",
       "    <tr>\n",
       "      <th>219</th>\n",
       "      <td>1628</td>\n",
       "      <td>9969</td>\n",
       "    </tr>\n",
       "    <tr>\n",
       "      <th>220</th>\n",
       "      <td>1629</td>\n",
       "      <td>10139</td>\n",
       "    </tr>\n",
       "    <tr>\n",
       "      <th>221</th>\n",
       "      <td>1631</td>\n",
       "      <td>9972</td>\n",
       "    </tr>\n",
       "    <tr>\n",
       "      <th>222</th>\n",
       "      <td>1634</td>\n",
       "      <td>9884</td>\n",
       "    </tr>\n",
       "  </tbody>\n",
       "</table>\n",
       "<p>223 rows × 2 columns</p>\n",
       "</div>"
      ],
      "text/plain": [
       "     product_agrupation_ID  product_ID\n",
       "0                     1021        3996\n",
       "1                     1023        4205\n",
       "2                     1025        4163\n",
       "3                     1027        4341\n",
       "4                     1037        1297\n",
       "..                     ...         ...\n",
       "218                   1626        9968\n",
       "219                   1628        9969\n",
       "220                   1629       10139\n",
       "221                   1631        9972\n",
       "222                   1634        9884\n",
       "\n",
       "[223 rows x 2 columns]"
      ]
     },
     "execution_count": 81,
     "metadata": {},
     "output_type": "execute_result"
    }
   ],
   "source": [
    "most_ordered_products_by_agrupation_ID = data.groupby('product_agrupation_ID')['product_ID'].apply(lambda x: x.mode().iloc[0]).reset_index()\n",
    "most_ordered_products_by_agrupation_ID.to_csv('mostOrderedProductByProductAgrupationId.csv')\n",
    "most_ordered_products_by_agrupation_ID\n"
   ]
  },
  {
   "cell_type": "markdown",
   "metadata": {},
   "source": [
    "> #### **How does the sales volume vary across different territories?**\n",
    "\n",
    "For this analysis, three map visualizations were generated using Tableau for the territories in Mexico, territories in USA and territories in South America. An aditional pie chart was included to compare between all regions, regardless of their country."
   ]
  },
  {
   "cell_type": "markdown",
   "metadata": {},
   "source": [
    "> #### **Are there any notable patterns or trends in the productAgrupationID with high sales volume?**\n",
    "\n",
    "In order to answer this questions, perhaps the most straight forward way is by generating multivariable visuals in Tableau, grouping and sorting product agrupation ID's by sales volumes, and seeing the influence of other variables such as order date and product ID."
   ]
  },
  {
   "cell_type": "markdown",
   "metadata": {},
   "source": [
    "### **Data Exporting**\n",
    "\n",
    "Finally, the dataset can be exported to csv to further being visualized through applications like Tableau."
   ]
  },
  {
   "cell_type": "code",
   "execution_count": 82,
   "metadata": {},
   "outputs": [],
   "source": [
    "data.to_csv('sampleDataWrangled.csv')"
   ]
  }
 ],
 "metadata": {
  "kernelspec": {
   "display_name": ".env",
   "language": "python",
   "name": "python3"
  },
  "language_info": {
   "codemirror_mode": {
    "name": "ipython",
    "version": 3
   },
   "file_extension": ".py",
   "mimetype": "text/x-python",
   "name": "python",
   "nbconvert_exporter": "python",
   "pygments_lexer": "ipython3",
   "version": "3.10.0"
  },
  "orig_nbformat": 4
 },
 "nbformat": 4,
 "nbformat_minor": 2
}
